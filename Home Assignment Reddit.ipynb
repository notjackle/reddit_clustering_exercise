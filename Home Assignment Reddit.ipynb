{
 "cells": [
  {
   "cell_type": "markdown",
   "metadata": {
    "id": "h76rb0eB9fRZ"
   },
   "source": [
    "## observe most frequent values of the categoricals"
   ]
  },
  {
   "cell_type": "markdown",
   "metadata": {
    "id": "MaVRWJ9IiU7B"
   },
   "source": [
    "Home Assignment\n",
    "\n",
    "Your assignment is to extract insights from the social media content, based on a month of Reddit data. You can download the data in the following link: \n",
    "https://drive.google.com/file/d/1tMZaD1CPBAH79uouzg0cKbwplWB1BPWR/view?usp=sharing\n",
    "\n",
    "The submission should address the following tasks: \n",
    "A basic exploration of the data. \n",
    "List of ideas that popped into your head during your exploration. Everything that you think is interesting to explore should be here. \n",
    "Use topic clustering/modeling methods, in order to cluster Reddit’s/words. Then use these topics overtime to find interesting events in the data. In this part don’t use the “subreddit” column.\n",
    "Evaluate your Reddits topic clustering/modeling results using the “subreddit” column (as tagged data for Reddit’s topic).\n",
    "\n",
    "Guideline:\n",
    "Please write clean code with documentation if needed.\n",
    "Please explain your insights and analysis of your results.\n",
    "Use methods for data cleaning.\n",
    "\n",
    "Implement it in a Python notebook and analyze it.\n",
    "Include instructions for running your code.\n",
    "s"
   ]
  },
  {
   "cell_type": "code",
   "execution_count": 45,
   "metadata": {
    "colab": {
     "base_uri": "https://localhost:8080/"
    },
    "executionInfo": {
     "elapsed": 29669,
     "status": "ok",
     "timestamp": 1644526577813,
     "user": {
      "displayName": "Amnon Lotenberg",
      "photoUrl": "https://lh3.googleusercontent.com/a-/AOh14GhI9NtjTLc7HAKwQ0goJpM8_6ukOhIaOLH0kN-a=s64",
      "userId": "16006199522535406723"
     },
     "user_tz": -120
    },
    "id": "DPZdo2DgMeXW",
    "outputId": "30446bb1-e08c-4601-d132-d5c7724682d2"
   },
   "outputs": [
    {
     "name": "stdout",
     "output_type": "stream",
     "text": [
      "Requirement already satisfied: cluster in /usr/local/lib/python3.7/dist-packages (1.4.1.post3)\n",
      "Requirement already satisfied: sentence-transformers in /usr/local/lib/python3.7/dist-packages (2.2.0)\n",
      "Requirement already satisfied: torchvision in /usr/local/lib/python3.7/dist-packages (from sentence-transformers) (0.11.1+cu111)\n",
      "Requirement already satisfied: numpy in /usr/local/lib/python3.7/dist-packages (from sentence-transformers) (1.21.5)\n",
      "Requirement already satisfied: torch>=1.6.0 in /usr/local/lib/python3.7/dist-packages (from sentence-transformers) (1.10.0+cu111)\n",
      "Requirement already satisfied: huggingface-hub in /usr/local/lib/python3.7/dist-packages (from sentence-transformers) (0.4.0)\n",
      "Requirement already satisfied: transformers<5.0.0,>=4.6.0 in /usr/local/lib/python3.7/dist-packages (from sentence-transformers) (4.16.2)\n",
      "Requirement already satisfied: sentencepiece in /usr/local/lib/python3.7/dist-packages (from sentence-transformers) (0.1.96)\n",
      "Requirement already satisfied: scikit-learn in /usr/local/lib/python3.7/dist-packages (from sentence-transformers) (1.0.2)\n",
      "Requirement already satisfied: scipy in /usr/local/lib/python3.7/dist-packages (from sentence-transformers) (1.4.1)\n",
      "Requirement already satisfied: tqdm in /usr/local/lib/python3.7/dist-packages (from sentence-transformers) (4.62.3)\n",
      "Requirement already satisfied: nltk in /usr/local/lib/python3.7/dist-packages (from sentence-transformers) (3.2.5)\n",
      "Requirement already satisfied: typing-extensions in /usr/local/lib/python3.7/dist-packages (from torch>=1.6.0->sentence-transformers) (3.10.0.2)\n",
      "Requirement already satisfied: packaging>=20.0 in /usr/local/lib/python3.7/dist-packages (from transformers<5.0.0,>=4.6.0->sentence-transformers) (21.3)\n",
      "Requirement already satisfied: sacremoses in /usr/local/lib/python3.7/dist-packages (from transformers<5.0.0,>=4.6.0->sentence-transformers) (0.0.47)\n",
      "Requirement already satisfied: regex!=2019.12.17 in /usr/local/lib/python3.7/dist-packages (from transformers<5.0.0,>=4.6.0->sentence-transformers) (2019.12.20)\n",
      "Requirement already satisfied: tokenizers!=0.11.3,>=0.10.1 in /usr/local/lib/python3.7/dist-packages (from transformers<5.0.0,>=4.6.0->sentence-transformers) (0.11.4)\n",
      "Requirement already satisfied: requests in /usr/local/lib/python3.7/dist-packages (from transformers<5.0.0,>=4.6.0->sentence-transformers) (2.23.0)\n",
      "Requirement already satisfied: filelock in /usr/local/lib/python3.7/dist-packages (from transformers<5.0.0,>=4.6.0->sentence-transformers) (3.4.2)\n",
      "Requirement already satisfied: pyyaml>=5.1 in /usr/local/lib/python3.7/dist-packages (from transformers<5.0.0,>=4.6.0->sentence-transformers) (5.4.1)\n",
      "Requirement already satisfied: importlib-metadata in /usr/local/lib/python3.7/dist-packages (from transformers<5.0.0,>=4.6.0->sentence-transformers) (4.10.1)\n",
      "Requirement already satisfied: pyparsing!=3.0.5,>=2.0.2 in /usr/local/lib/python3.7/dist-packages (from packaging>=20.0->transformers<5.0.0,>=4.6.0->sentence-transformers) (3.0.7)\n",
      "Requirement already satisfied: zipp>=0.5 in /usr/local/lib/python3.7/dist-packages (from importlib-metadata->transformers<5.0.0,>=4.6.0->sentence-transformers) (3.7.0)\n",
      "Requirement already satisfied: six in /usr/local/lib/python3.7/dist-packages (from nltk->sentence-transformers) (1.15.0)\n",
      "Requirement already satisfied: urllib3!=1.25.0,!=1.25.1,<1.26,>=1.21.1 in /usr/local/lib/python3.7/dist-packages (from requests->transformers<5.0.0,>=4.6.0->sentence-transformers) (1.24.3)\n",
      "Requirement already satisfied: chardet<4,>=3.0.2 in /usr/local/lib/python3.7/dist-packages (from requests->transformers<5.0.0,>=4.6.0->sentence-transformers) (3.0.4)\n",
      "Requirement already satisfied: certifi>=2017.4.17 in /usr/local/lib/python3.7/dist-packages (from requests->transformers<5.0.0,>=4.6.0->sentence-transformers) (2021.10.8)\n",
      "Requirement already satisfied: idna<3,>=2.5 in /usr/local/lib/python3.7/dist-packages (from requests->transformers<5.0.0,>=4.6.0->sentence-transformers) (2.10)\n",
      "Requirement already satisfied: joblib in /usr/local/lib/python3.7/dist-packages (from sacremoses->transformers<5.0.0,>=4.6.0->sentence-transformers) (1.1.0)\n",
      "Requirement already satisfied: click in /usr/local/lib/python3.7/dist-packages (from sacremoses->transformers<5.0.0,>=4.6.0->sentence-transformers) (7.1.2)\n",
      "Requirement already satisfied: threadpoolctl>=2.0.0 in /usr/local/lib/python3.7/dist-packages (from scikit-learn->sentence-transformers) (3.1.0)\n",
      "Requirement already satisfied: pillow!=8.3.0,>=5.3.0 in /usr/local/lib/python3.7/dist-packages (from torchvision->sentence-transformers) (7.1.2)\n",
      "Requirement already satisfied: umap-learn in /usr/local/lib/python3.7/dist-packages (0.5.2)\n",
      "Requirement already satisfied: hdbscan in /usr/local/lib/python3.7/dist-packages (0.8.28)\n",
      "Requirement already satisfied: tqdm in /usr/local/lib/python3.7/dist-packages (from umap-learn) (4.62.3)\n",
      "Requirement already satisfied: pynndescent>=0.5 in /usr/local/lib/python3.7/dist-packages (from umap-learn) (0.5.6)\n",
      "Requirement already satisfied: scipy>=1.0 in /usr/local/lib/python3.7/dist-packages (from umap-learn) (1.4.1)\n",
      "Requirement already satisfied: scikit-learn>=0.22 in /usr/local/lib/python3.7/dist-packages (from umap-learn) (1.0.2)\n",
      "Requirement already satisfied: numba>=0.49 in /usr/local/lib/python3.7/dist-packages (from umap-learn) (0.51.2)\n",
      "Requirement already satisfied: numpy>=1.17 in /usr/local/lib/python3.7/dist-packages (from umap-learn) (1.21.5)\n",
      "Requirement already satisfied: setuptools in /usr/local/lib/python3.7/dist-packages (from numba>=0.49->umap-learn) (57.4.0)\n",
      "Requirement already satisfied: llvmlite<0.35,>=0.34.0.dev0 in /usr/local/lib/python3.7/dist-packages (from numba>=0.49->umap-learn) (0.34.0)\n",
      "Requirement already satisfied: joblib>=0.11 in /usr/local/lib/python3.7/dist-packages (from pynndescent>=0.5->umap-learn) (1.1.0)\n",
      "Requirement already satisfied: threadpoolctl>=2.0.0 in /usr/local/lib/python3.7/dist-packages (from scikit-learn>=0.22->umap-learn) (3.1.0)\n",
      "Requirement already satisfied: cython>=0.27 in /usr/local/lib/python3.7/dist-packages (from hdbscan) (0.29.27)\n",
      "Requirement already satisfied: plotly==5.6.0 in /usr/local/lib/python3.7/dist-packages (5.6.0)\n",
      "Requirement already satisfied: six in /usr/local/lib/python3.7/dist-packages (from plotly==5.6.0) (1.15.0)\n",
      "Requirement already satisfied: tenacity>=6.2.0 in /usr/local/lib/python3.7/dist-packages (from plotly==5.6.0) (8.0.1)\n",
      "Requirement already satisfied: pyyaml==5.4.1 in /usr/local/lib/python3.7/dist-packages (5.4.1)\n"
     ]
    }
   ],
   "source": [
    "!pip install cluster\n",
    "!pip install -U sentence-transformers\n",
    "!pip install umap-learn hdbscan\n",
    "!pip install plotly==5.6.0 \n",
    "!pip install pyyaml==5.4.1"
   ]
  },
  {
   "cell_type": "code",
   "execution_count": 46,
   "metadata": {
    "executionInfo": {
     "elapsed": 20,
     "status": "ok",
     "timestamp": 1644526577814,
     "user": {
      "displayName": "Amnon Lotenberg",
      "photoUrl": "https://lh3.googleusercontent.com/a-/AOh14GhI9NtjTLc7HAKwQ0goJpM8_6ukOhIaOLH0kN-a=s64",
      "userId": "16006199522535406723"
     },
     "user_tz": -120
    },
    "id": "RySXzCgFiiaS"
   },
   "outputs": [],
   "source": [
    "import pandas as pd\n",
    "import numpy as np\n",
    "import re\n",
    "\n",
    "# from nltk.tokenize import word_tokenize\n",
    "# from nltk.stem import WordNetLemmatizer\n",
    "# from nltk.util import ngrams\n",
    "# import nltk\n",
    "# nltk.download(['punkt', 'wordnet', 'averaged_perceptron_tagger', 'stopwords'])\n",
    "\n",
    "# nltk.download('stopwords')\n",
    "# from nltk.metrics.distance import jaccard_distance\n",
    "# from nltk.corpus import stopwords # nltk.download('stopwords')\n",
    "# from cluster import HierarchicalClustering # pip install cluster\n",
    "\n",
    "# from tqdm import tqdm\n",
    "# # from tqdm.auto import tqdm  # for notebooks\n",
    "\n",
    "# # Create new `pandas` methods which use `tqdm` progress\n",
    "# # (can use tqdm_gui, optional kwargs, etc.)\n",
    "# tqdm.pandas()\n",
    "\n",
    "# from functools import lru_cache\n",
    "from collections import Counter\n",
    "\n",
    "import pickle\n"
   ]
  },
  {
   "cell_type": "markdown",
   "metadata": {
    "id": "IxlPHzk2n0eT"
   },
   "source": [
    "# Download data"
   ]
  },
  {
   "cell_type": "code",
   "execution_count": 47,
   "metadata": {
    "colab": {
     "base_uri": "https://localhost:8080/"
    },
    "executionInfo": {
     "elapsed": 5977,
     "status": "ok",
     "timestamp": 1644526583772,
     "user": {
      "displayName": "Amnon Lotenberg",
      "photoUrl": "https://lh3.googleusercontent.com/a-/AOh14GhI9NtjTLc7HAKwQ0goJpM8_6ukOhIaOLH0kN-a=s64",
      "userId": "16006199522535406723"
     },
     "user_tz": -120
    },
    "id": "Dm3IDbxblw6V",
    "outputId": "53346495-ee5d-4456-e5e2-efd354100681"
   },
   "outputs": [
    {
     "name": "stdout",
     "output_type": "stream",
     "text": [
      "--2022-02-10 20:56:17--  https://www.dropbox.com/s/czy80azezn19wib/Reddit_12_2008.csv.zip\n",
      "Resolving www.dropbox.com (www.dropbox.com)... 162.125.81.18, 2620:100:6030:18::a27d:5012\n",
      "Connecting to www.dropbox.com (www.dropbox.com)|162.125.81.18|:443... connected.\n",
      "HTTP request sent, awaiting response... 301 Moved Permanently\n",
      "Location: /s/raw/czy80azezn19wib/Reddit_12_2008.csv.zip [following]\n",
      "--2022-02-10 20:56:17--  https://www.dropbox.com/s/raw/czy80azezn19wib/Reddit_12_2008.csv.zip\n",
      "Reusing existing connection to www.dropbox.com:443.\n",
      "HTTP request sent, awaiting response... 302 Found\n",
      "Location: https://ucfbb27abbba9ce2d5f2a20f4092.dl.dropboxusercontent.com/cd/0/inline/Bfd8epIjpaqm4Q6Xr1b2Gn1JcQRxP16t_dh-jCofa1RkXn2wLTXHd9-XBbOq0F74jZ_TmogqnTChWPb42Ob-vNxkI_FHkAfqCJ5MDpisjjlx2LZdlf1AH1XXn6JELzinaVh-i7-katsyoyzJk6jngcXu/file# [following]\n",
      "--2022-02-10 20:56:18--  https://ucfbb27abbba9ce2d5f2a20f4092.dl.dropboxusercontent.com/cd/0/inline/Bfd8epIjpaqm4Q6Xr1b2Gn1JcQRxP16t_dh-jCofa1RkXn2wLTXHd9-XBbOq0F74jZ_TmogqnTChWPb42Ob-vNxkI_FHkAfqCJ5MDpisjjlx2LZdlf1AH1XXn6JELzinaVh-i7-katsyoyzJk6jngcXu/file\n",
      "Resolving ucfbb27abbba9ce2d5f2a20f4092.dl.dropboxusercontent.com (ucfbb27abbba9ce2d5f2a20f4092.dl.dropboxusercontent.com)... 162.125.81.15, 2620:100:6034:15::a27d:540f\n",
      "Connecting to ucfbb27abbba9ce2d5f2a20f4092.dl.dropboxusercontent.com (ucfbb27abbba9ce2d5f2a20f4092.dl.dropboxusercontent.com)|162.125.81.15|:443... connected.\n",
      "HTTP request sent, awaiting response... 302 Found\n",
      "Location: /cd/0/inline2/BfebJ3vdIN0BgSKGZkju6wEqMJbV7XpT45oSreifzXI3DRBFk302ykT-tw5l9kz9whPULOZeqnX0M58vuWUXN7CCsBdTKlInw0eTwoOM0gxu2hHvYHj-EW9TJPsQUI573uXQ3d3N9OdLSOVLQfWPQUNOAC5ciX9-pK--4HdMMalL6sQbMqASN9P0f3Xs_zBdln4WXb0I1RzOkKJteb2Wp85naBhZw-gq5I6JLUnXVWzOOjpkekNGcX9QlYW5e_2OWI0B8J0Fq3eGOUnSbIeGFjbJ_ea_YSN0wyWAR1UB9twSUC0Lly971ETRVt5yz8ynrtcdoNcYOFDy31thpptIojgxF0rTeBVm9qW6uO9XpbDyfqSIrcjfD-ih3J5JQQo2ZJ4/file [following]\n",
      "--2022-02-10 20:56:18--  https://ucfbb27abbba9ce2d5f2a20f4092.dl.dropboxusercontent.com/cd/0/inline2/BfebJ3vdIN0BgSKGZkju6wEqMJbV7XpT45oSreifzXI3DRBFk302ykT-tw5l9kz9whPULOZeqnX0M58vuWUXN7CCsBdTKlInw0eTwoOM0gxu2hHvYHj-EW9TJPsQUI573uXQ3d3N9OdLSOVLQfWPQUNOAC5ciX9-pK--4HdMMalL6sQbMqASN9P0f3Xs_zBdln4WXb0I1RzOkKJteb2Wp85naBhZw-gq5I6JLUnXVWzOOjpkekNGcX9QlYW5e_2OWI0B8J0Fq3eGOUnSbIeGFjbJ_ea_YSN0wyWAR1UB9twSUC0Lly971ETRVt5yz8ynrtcdoNcYOFDy31thpptIojgxF0rTeBVm9qW6uO9XpbDyfqSIrcjfD-ih3J5JQQo2ZJ4/file\n",
      "Reusing existing connection to ucfbb27abbba9ce2d5f2a20f4092.dl.dropboxusercontent.com:443.\n",
      "HTTP request sent, awaiting response... 200 OK\n",
      "Length: unspecified [application/zip]\n",
      "Saving to: ‘Reddit_12_2008.csv.zip.4’\n",
      "\n",
      "Reddit_12_2008.csv.     [                <=> ]  49.64M  14.1MB/s    in 3.7s    \n",
      "\n",
      "2022-02-10 20:56:23 (13.4 MB/s) - ‘Reddit_12_2008.csv.zip.4’ saved [52055645]\n",
      "\n"
     ]
    }
   ],
   "source": [
    "!wget https://www.dropbox.com/s/czy80azezn19wib/Reddit_12_2008.csv.zip"
   ]
  },
  {
   "cell_type": "code",
   "execution_count": 48,
   "metadata": {
    "colab": {
     "base_uri": "https://localhost:8080/"
    },
    "executionInfo": {
     "elapsed": 2454,
     "status": "ok",
     "timestamp": 1644526586221,
     "user": {
      "displayName": "Amnon Lotenberg",
      "photoUrl": "https://lh3.googleusercontent.com/a-/AOh14GhI9NtjTLc7HAKwQ0goJpM8_6ukOhIaOLH0kN-a=s64",
      "userId": "16006199522535406723"
     },
     "user_tz": -120
    },
    "id": "ZTpeDyCBlyRb",
    "outputId": "7a641d82-b94b-4d47-deaa-cbf6123aada8"
   },
   "outputs": [
    {
     "name": "stdout",
     "output_type": "stream",
     "text": [
      "Archive:  Reddit_12_2008.csv.zip\n",
      "  inflating: Reddit_12_2008.csv      \n",
      "  inflating: __MACOSX/._Reddit_12_2008.csv  \n"
     ]
    }
   ],
   "source": [
    "!unzip -o Reddit_12_2008.csv.zip "
   ]
  },
  {
   "cell_type": "code",
   "execution_count": 49,
   "metadata": {
    "colab": {
     "base_uri": "https://localhost:8080/",
     "height": 424
    },
    "executionInfo": {
     "elapsed": 2752,
     "status": "ok",
     "timestamp": 1644526588968,
     "user": {
      "displayName": "Amnon Lotenberg",
      "photoUrl": "https://lh3.googleusercontent.com/a-/AOh14GhI9NtjTLc7HAKwQ0goJpM8_6ukOhIaOLH0kN-a=s64",
      "userId": "16006199522535406723"
     },
     "user_tz": -120
    },
    "id": "YHMpDADFmLIv",
    "outputId": "d79f2e69-bc40-4474-abb5-d5f33fa9aaeb"
   },
   "outputs": [
    {
     "data": {
      "text/html": [
       "\n",
       "  <div id=\"df-f02c7426-fd93-4ce4-9bde-69a258789351\">\n",
       "    <div class=\"colab-df-container\">\n",
       "      <div>\n",
       "<style scoped>\n",
       "    .dataframe tbody tr th:only-of-type {\n",
       "        vertical-align: middle;\n",
       "    }\n",
       "\n",
       "    .dataframe tbody tr th {\n",
       "        vertical-align: top;\n",
       "    }\n",
       "\n",
       "    .dataframe thead th {\n",
       "        text-align: right;\n",
       "    }\n",
       "</style>\n",
       "<table border=\"1\" class=\"dataframe\">\n",
       "  <thead>\n",
       "    <tr style=\"text-align: right;\">\n",
       "      <th></th>\n",
       "      <th>author</th>\n",
       "      <th>body</th>\n",
       "      <th>created_utc</th>\n",
       "      <th>subreddit</th>\n",
       "      <th>id</th>\n",
       "      <th>score</th>\n",
       "    </tr>\n",
       "  </thead>\n",
       "  <tbody>\n",
       "    <tr>\n",
       "      <th>0</th>\n",
       "      <td>malcontent</td>\n",
       "      <td>&amp;gt;The business cannot survive paying out ben...</td>\n",
       "      <td>2008-12-18 08:00:37</td>\n",
       "      <td>politics</td>\n",
       "      <td>2</td>\n",
       "      <td>1</td>\n",
       "    </tr>\n",
       "    <tr>\n",
       "      <th>1</th>\n",
       "      <td>malcontent</td>\n",
       "      <td>&amp;gt;I'm curious, how do you see, beyond defini...</td>\n",
       "      <td>2008-12-18 08:00:41</td>\n",
       "      <td>politics</td>\n",
       "      <td>3</td>\n",
       "      <td>1</td>\n",
       "    </tr>\n",
       "    <tr>\n",
       "      <th>2</th>\n",
       "      <td>malcontent</td>\n",
       "      <td>&amp;gt;I'm curious, how do you see, beyond defini...</td>\n",
       "      <td>2008-12-18 08:00:53</td>\n",
       "      <td>politics</td>\n",
       "      <td>4</td>\n",
       "      <td>2</td>\n",
       "    </tr>\n",
       "    <tr>\n",
       "      <th>3</th>\n",
       "      <td>[deleted]</td>\n",
       "      <td>[deleted]</td>\n",
       "      <td>2008-12-18 08:01:07</td>\n",
       "      <td>WTF</td>\n",
       "      <td>5</td>\n",
       "      <td>1</td>\n",
       "    </tr>\n",
       "    <tr>\n",
       "      <th>4</th>\n",
       "      <td>catalytica</td>\n",
       "      <td>The greatest historic instigator of human divi...</td>\n",
       "      <td>2008-12-18 08:01:20</td>\n",
       "      <td>atheism</td>\n",
       "      <td>7</td>\n",
       "      <td>0</td>\n",
       "    </tr>\n",
       "    <tr>\n",
       "      <th>...</th>\n",
       "      <td>...</td>\n",
       "      <td>...</td>\n",
       "      <td>...</td>\n",
       "      <td>...</td>\n",
       "      <td>...</td>\n",
       "      <td>...</td>\n",
       "    </tr>\n",
       "    <tr>\n",
       "      <th>558348</th>\n",
       "      <td>[deleted]</td>\n",
       "      <td>Yeah, seriously. If anything it \"revalues\" mus...</td>\n",
       "      <td>2008-12-18 07:54:35</td>\n",
       "      <td>Music</td>\n",
       "      <td>c06vwuf</td>\n",
       "      <td>12</td>\n",
       "    </tr>\n",
       "    <tr>\n",
       "      <th>558349</th>\n",
       "      <td>Morgin_Black</td>\n",
       "      <td>yes, beat it at failing.</td>\n",
       "      <td>2008-12-18 07:54:39</td>\n",
       "      <td>comics</td>\n",
       "      <td>c06vwug</td>\n",
       "      <td>0</td>\n",
       "    </tr>\n",
       "    <tr>\n",
       "      <th>558350</th>\n",
       "      <td>[deleted]</td>\n",
       "      <td>Yes.  This DRM will have the ability to send s...</td>\n",
       "      <td>2008-12-18 07:54:40</td>\n",
       "      <td>Economics</td>\n",
       "      <td>c06vwuh</td>\n",
       "      <td>1</td>\n",
       "    </tr>\n",
       "    <tr>\n",
       "      <th>558351</th>\n",
       "      <td>onezerozeroone</td>\n",
       "      <td>To be fair, I think the original poster meant ...</td>\n",
       "      <td>2008-12-18 07:54:45</td>\n",
       "      <td>atheism</td>\n",
       "      <td>c06vwui</td>\n",
       "      <td>1</td>\n",
       "    </tr>\n",
       "    <tr>\n",
       "      <th>558352</th>\n",
       "      <td>vypermann</td>\n",
       "      <td>http://www.ilovewavs.com/Effects/Music/Sound%2...</td>\n",
       "      <td>2008-12-18 07:54:46</td>\n",
       "      <td>WTF</td>\n",
       "      <td>c06vwuj</td>\n",
       "      <td>0</td>\n",
       "    </tr>\n",
       "  </tbody>\n",
       "</table>\n",
       "<p>558353 rows × 6 columns</p>\n",
       "</div>\n",
       "      <button class=\"colab-df-convert\" onclick=\"convertToInteractive('df-f02c7426-fd93-4ce4-9bde-69a258789351')\"\n",
       "              title=\"Convert this dataframe to an interactive table.\"\n",
       "              style=\"display:none;\">\n",
       "        \n",
       "  <svg xmlns=\"http://www.w3.org/2000/svg\" height=\"24px\"viewBox=\"0 0 24 24\"\n",
       "       width=\"24px\">\n",
       "    <path d=\"M0 0h24v24H0V0z\" fill=\"none\"/>\n",
       "    <path d=\"M18.56 5.44l.94 2.06.94-2.06 2.06-.94-2.06-.94-.94-2.06-.94 2.06-2.06.94zm-11 1L8.5 8.5l.94-2.06 2.06-.94-2.06-.94L8.5 2.5l-.94 2.06-2.06.94zm10 10l.94 2.06.94-2.06 2.06-.94-2.06-.94-.94-2.06-.94 2.06-2.06.94z\"/><path d=\"M17.41 7.96l-1.37-1.37c-.4-.4-.92-.59-1.43-.59-.52 0-1.04.2-1.43.59L10.3 9.45l-7.72 7.72c-.78.78-.78 2.05 0 2.83L4 21.41c.39.39.9.59 1.41.59.51 0 1.02-.2 1.41-.59l7.78-7.78 2.81-2.81c.8-.78.8-2.07 0-2.86zM5.41 20L4 18.59l7.72-7.72 1.47 1.35L5.41 20z\"/>\n",
       "  </svg>\n",
       "      </button>\n",
       "      \n",
       "  <style>\n",
       "    .colab-df-container {\n",
       "      display:flex;\n",
       "      flex-wrap:wrap;\n",
       "      gap: 12px;\n",
       "    }\n",
       "\n",
       "    .colab-df-convert {\n",
       "      background-color: #E8F0FE;\n",
       "      border: none;\n",
       "      border-radius: 50%;\n",
       "      cursor: pointer;\n",
       "      display: none;\n",
       "      fill: #1967D2;\n",
       "      height: 32px;\n",
       "      padding: 0 0 0 0;\n",
       "      width: 32px;\n",
       "    }\n",
       "\n",
       "    .colab-df-convert:hover {\n",
       "      background-color: #E2EBFA;\n",
       "      box-shadow: 0px 1px 2px rgba(60, 64, 67, 0.3), 0px 1px 3px 1px rgba(60, 64, 67, 0.15);\n",
       "      fill: #174EA6;\n",
       "    }\n",
       "\n",
       "    [theme=dark] .colab-df-convert {\n",
       "      background-color: #3B4455;\n",
       "      fill: #D2E3FC;\n",
       "    }\n",
       "\n",
       "    [theme=dark] .colab-df-convert:hover {\n",
       "      background-color: #434B5C;\n",
       "      box-shadow: 0px 1px 3px 1px rgba(0, 0, 0, 0.15);\n",
       "      filter: drop-shadow(0px 1px 2px rgba(0, 0, 0, 0.3));\n",
       "      fill: #FFFFFF;\n",
       "    }\n",
       "  </style>\n",
       "\n",
       "      <script>\n",
       "        const buttonEl =\n",
       "          document.querySelector('#df-f02c7426-fd93-4ce4-9bde-69a258789351 button.colab-df-convert');\n",
       "        buttonEl.style.display =\n",
       "          google.colab.kernel.accessAllowed ? 'block' : 'none';\n",
       "\n",
       "        async function convertToInteractive(key) {\n",
       "          const element = document.querySelector('#df-f02c7426-fd93-4ce4-9bde-69a258789351');\n",
       "          const dataTable =\n",
       "            await google.colab.kernel.invokeFunction('convertToInteractive',\n",
       "                                                     [key], {});\n",
       "          if (!dataTable) return;\n",
       "\n",
       "          const docLinkHtml = 'Like what you see? Visit the ' +\n",
       "            '<a target=\"_blank\" href=https://colab.research.google.com/notebooks/data_table.ipynb>data table notebook</a>'\n",
       "            + ' to learn more about interactive tables.';\n",
       "          element.innerHTML = '';\n",
       "          dataTable['output_type'] = 'display_data';\n",
       "          await google.colab.output.renderOutput(dataTable, element);\n",
       "          const docLink = document.createElement('div');\n",
       "          docLink.innerHTML = docLinkHtml;\n",
       "          element.appendChild(docLink);\n",
       "        }\n",
       "      </script>\n",
       "    </div>\n",
       "  </div>\n",
       "  "
      ],
      "text/plain": [
       "                author  ... score\n",
       "0           malcontent  ...     1\n",
       "1           malcontent  ...     1\n",
       "2           malcontent  ...     2\n",
       "3            [deleted]  ...     1\n",
       "4           catalytica  ...     0\n",
       "...                ...  ...   ...\n",
       "558348       [deleted]  ...    12\n",
       "558349    Morgin_Black  ...     0\n",
       "558350       [deleted]  ...     1\n",
       "558351  onezerozeroone  ...     1\n",
       "558352       vypermann  ...     0\n",
       "\n",
       "[558353 rows x 6 columns]"
      ]
     },
     "execution_count": 49,
     "metadata": {},
     "output_type": "execute_result"
    }
   ],
   "source": [
    "df = pd.read_csv('Reddit_12_2008.csv')#.sample(50_000, random_state=7)\n",
    "df"
   ]
  },
  {
   "cell_type": "markdown",
   "metadata": {
    "id": "0N_deE6omgtj"
   },
   "source": [
    "# Explore the data\n",
    "A basic exploration of the data. List of ideas that popped into your head during your exploration. Everything that you think is interesting to explore should be here. "
   ]
  },
  {
   "cell_type": "markdown",
   "metadata": {
    "id": "l1uU6hHlDRSL"
   },
   "source": [
    "## set dtypes"
   ]
  },
  {
   "cell_type": "code",
   "execution_count": 50,
   "metadata": {
    "colab": {
     "base_uri": "https://localhost:8080/"
    },
    "executionInfo": {
     "elapsed": 11,
     "status": "ok",
     "timestamp": 1644526588969,
     "user": {
      "displayName": "Amnon Lotenberg",
      "photoUrl": "https://lh3.googleusercontent.com/a-/AOh14GhI9NtjTLc7HAKwQ0goJpM8_6ukOhIaOLH0kN-a=s64",
      "userId": "16006199522535406723"
     },
     "user_tz": -120
    },
    "id": "Hjyf8aeNDaSr",
    "outputId": "46df3e49-994e-485b-c1ef-1d493d5542c5"
   },
   "outputs": [
    {
     "name": "stdout",
     "output_type": "stream",
     "text": [
      "<class 'pandas.core.frame.DataFrame'>\n",
      "RangeIndex: 558353 entries, 0 to 558352\n",
      "Data columns (total 6 columns):\n",
      " #   Column       Non-Null Count   Dtype \n",
      "---  ------       --------------   ----- \n",
      " 0   author       558353 non-null  object\n",
      " 1   body         558352 non-null  object\n",
      " 2   created_utc  558353 non-null  object\n",
      " 3   subreddit    558353 non-null  object\n",
      " 4   id           558353 non-null  object\n",
      " 5   score        558353 non-null  int64 \n",
      "dtypes: int64(1), object(5)\n",
      "memory usage: 25.6+ MB\n"
     ]
    }
   ],
   "source": [
    "df.info()"
   ]
  },
  {
   "cell_type": "code",
   "execution_count": 51,
   "metadata": {
    "colab": {
     "base_uri": "https://localhost:8080/"
    },
    "executionInfo": {
     "elapsed": 658,
     "status": "ok",
     "timestamp": 1644526589620,
     "user": {
      "displayName": "Amnon Lotenberg",
      "photoUrl": "https://lh3.googleusercontent.com/a-/AOh14GhI9NtjTLc7HAKwQ0goJpM8_6ukOhIaOLH0kN-a=s64",
      "userId": "16006199522535406723"
     },
     "user_tz": -120
    },
    "id": "GM3oNQ6uDC0w",
    "outputId": "fef58395-228e-4262-d35d-0f2aedbacdf9"
   },
   "outputs": [
    {
     "name": "stdout",
     "output_type": "stream",
     "text": [
      "<class 'pandas.core.frame.DataFrame'>\n",
      "RangeIndex: 558353 entries, 0 to 558352\n",
      "Data columns (total 6 columns):\n",
      " #   Column       Non-Null Count   Dtype         \n",
      "---  ------       --------------   -----         \n",
      " 0   author       558353 non-null  string        \n",
      " 1   body         558352 non-null  string        \n",
      " 2   created_utc  558353 non-null  datetime64[ns]\n",
      " 3   subreddit    558353 non-null  category      \n",
      " 4   id           558353 non-null  string        \n",
      " 5   score        558353 non-null  Int64         \n",
      "dtypes: Int64(1), category(1), datetime64[ns](1), string(3)\n",
      "memory usage: 22.4 MB\n"
     ]
    }
   ],
   "source": [
    "df = df.convert_dtypes()\n",
    "df['created_utc'] = pd.to_datetime( df.created_utc)\n",
    "df['subreddit'] = df.subreddit.astype(\"category\")\n",
    "df.info()"
   ]
  },
  {
   "cell_type": "markdown",
   "metadata": {
    "id": "WA2xeevFWTYh"
   },
   "source": [
    "## lets look at some asppects of the body, like its length\n",
    "\n"
   ]
  },
  {
   "cell_type": "code",
   "execution_count": 52,
   "metadata": {
    "colab": {
     "base_uri": "https://localhost:8080/",
     "height": 286
    },
    "executionInfo": {
     "elapsed": 1174,
     "status": "ok",
     "timestamp": 1644526590790,
     "user": {
      "displayName": "Amnon Lotenberg",
      "photoUrl": "https://lh3.googleusercontent.com/a-/AOh14GhI9NtjTLc7HAKwQ0goJpM8_6ukOhIaOLH0kN-a=s64",
      "userId": "16006199522535406723"
     },
     "user_tz": -120
    },
    "id": "yB55D8PmVzeQ",
    "outputId": "039f7225-c695-40ca-d272-81bf75308226"
   },
   "outputs": [
    {
     "data": {
      "text/plain": [
       "<matplotlib.axes._subplots.AxesSubplot at 0x7f1615dae810>"
      ]
     },
     "execution_count": 52,
     "metadata": {},
     "output_type": "execute_result"
    },
    {
     "data": {
      "image/png": "[encoded data removed]",
      "text/plain": [
       "<Figure size 432x288 with 1 Axes>"
      ]
     },
     "metadata": {
      "needs_background": "light"
     },
     "output_type": "display_data"
    }
   ],
   "source": [
    "body_len = df.body.str.len()\n",
    "body_len[body_len < body_len.quantile(0.98)].hist(bins=40)"
   ]
  },
  {
   "cell_type": "code",
   "execution_count": 53,
   "metadata": {
    "colab": {
     "base_uri": "https://localhost:8080/"
    },
    "executionInfo": {
     "elapsed": 1253,
     "status": "ok",
     "timestamp": 1644526592036,
     "user": {
      "displayName": "Amnon Lotenberg",
      "photoUrl": "https://lh3.googleusercontent.com/a-/AOh14GhI9NtjTLc7HAKwQ0goJpM8_6ukOhIaOLH0kN-a=s64",
      "userId": "16006199522535406723"
     },
     "user_tz": -120
    },
    "id": "b_O6QpDcWx0t",
    "outputId": "5b5d04ea-3b01-4810-cae0-41cfb994d2e1"
   },
   "outputs": [
    {
     "data": {
      "text/plain": [
       "count        558352\n",
       "unique       475151\n",
       "top       [deleted]\n",
       "freq          74374\n",
       "Name: body, dtype: object"
      ]
     },
     "execution_count": 53,
     "metadata": {},
     "output_type": "execute_result"
    }
   ],
   "source": [
    "df.body.describe()"
   ]
  },
  {
   "cell_type": "markdown",
   "metadata": {
    "id": "Ehll6DECWZ9z"
   },
   "source": [
    "looks like lots of bodies are suspiciously short, and uninformative. So we should delete all the \"[deleted]\" and \"[[citation needed]\" posts. If, later, we get into trouble clustering, we should revisit this step, and perhaps filter out more uninformative posts."
   ]
  },
  {
   "cell_type": "code",
   "execution_count": 54,
   "metadata": {
    "executionInfo": {
     "elapsed": 514,
     "status": "ok",
     "timestamp": 1644526592547,
     "user": {
      "displayName": "Amnon Lotenberg",
      "photoUrl": "https://lh3.googleusercontent.com/a-/AOh14GhI9NtjTLc7HAKwQ0goJpM8_6ukOhIaOLH0kN-a=s64",
      "userId": "16006199522535406723"
     },
     "user_tz": -120
    },
    "id": "dTcviWMpXAZW"
   },
   "outputs": [],
   "source": [
    "df = df.drop(df[df.body.str.len() <= 20].index)"
   ]
  },
  {
   "cell_type": "code",
   "execution_count": 55,
   "metadata": {
    "colab": {
     "base_uri": "https://localhost:8080/",
     "height": 283
    },
    "executionInfo": {
     "elapsed": 1514,
     "status": "ok",
     "timestamp": 1644526594058,
     "user": {
      "displayName": "Amnon Lotenberg",
      "photoUrl": "https://lh3.googleusercontent.com/a-/AOh14GhI9NtjTLc7HAKwQ0goJpM8_6ukOhIaOLH0kN-a=s64",
      "userId": "16006199522535406723"
     },
     "user_tz": -120
    },
    "id": "kt9X-ljxad_Z",
    "outputId": "993a4ae8-210e-4769-bbff-9933f604724e"
   },
   "outputs": [
    {
     "data": {
      "text/plain": [
       "<matplotlib.axes._subplots.AxesSubplot at 0x7f1616095b10>"
      ]
     },
     "execution_count": 55,
     "metadata": {},
     "output_type": "execute_result"
    },
    {
     "data": {
      "image/png": "[encoded data removed]",
      "text/plain": [
       "<Figure size 432x288 with 1 Axes>"
      ]
     },
     "metadata": {
      "needs_background": "light"
     },
     "output_type": "display_data"
    }
   ],
   "source": [
    "body_len = df.body.str.len()\n",
    "body_len[body_len < body_len.quantile(0.98)].hist(bins=40)"
   ]
  },
  {
   "cell_type": "code",
   "execution_count": 56,
   "metadata": {
    "colab": {
     "base_uri": "https://localhost:8080/"
    },
    "executionInfo": {
     "elapsed": 1495,
     "status": "ok",
     "timestamp": 1644526595546,
     "user": {
      "displayName": "Amnon Lotenberg",
      "photoUrl": "https://lh3.googleusercontent.com/a-/AOh14GhI9NtjTLc7HAKwQ0goJpM8_6ukOhIaOLH0kN-a=s64",
      "userId": "16006199522535406723"
     },
     "user_tz": -120
    },
    "id": "kmgxM3q2ZfiU",
    "outputId": "4cf152d1-3c35-42f3-c058-b3e0e23b1f99"
   },
   "outputs": [
    {
     "data": {
      "text/plain": [
       "count                        447523\n",
       "unique                       444871\n",
       "top       I see what you did there.\n",
       "freq                             58\n",
       "Name: body, dtype: object"
      ]
     },
     "execution_count": 56,
     "metadata": {},
     "output_type": "execute_result"
    }
   ],
   "source": [
    "df.body.describe()"
   ]
  },
  {
   "cell_type": "markdown",
   "metadata": {
    "id": "p8jo9tlwaoN8"
   },
   "source": [
    "Now, that looks a lot more normal"
   ]
  },
  {
   "cell_type": "markdown",
   "metadata": {
    "id": "a1WnkXgT8NIj"
   },
   "source": [
    "## are there any nulls?"
   ]
  },
  {
   "cell_type": "code",
   "execution_count": 57,
   "metadata": {
    "colab": {
     "base_uri": "https://localhost:8080/"
    },
    "executionInfo": {
     "elapsed": 23,
     "status": "ok",
     "timestamp": 1644526595547,
     "user": {
      "displayName": "Amnon Lotenberg",
      "photoUrl": "https://lh3.googleusercontent.com/a-/AOh14GhI9NtjTLc7HAKwQ0goJpM8_6ukOhIaOLH0kN-a=s64",
      "userId": "16006199522535406723"
     },
     "user_tz": -120
    },
    "id": "rka1y9Gu8G9P",
    "outputId": "6f49ec42-bf7e-4f09-fe41-b07084dbcfb9"
   },
   "outputs": [
    {
     "data": {
      "text/plain": [
       "author         0\n",
       "body           1\n",
       "created_utc    0\n",
       "subreddit      0\n",
       "id             0\n",
       "score          0\n",
       "dtype: int64"
      ]
     },
     "execution_count": 57,
     "metadata": {},
     "output_type": "execute_result"
    }
   ],
   "source": [
    "df.isna().sum()"
   ]
  },
  {
   "cell_type": "markdown",
   "metadata": {
    "id": "IMCsDqGP8Qbe"
   },
   "source": [
    "if so, remove the nulls"
   ]
  },
  {
   "cell_type": "code",
   "execution_count": 58,
   "metadata": {
    "executionInfo": {
     "elapsed": 742,
     "status": "ok",
     "timestamp": 1644526596284,
     "user": {
      "displayName": "Amnon Lotenberg",
      "photoUrl": "https://lh3.googleusercontent.com/a-/AOh14GhI9NtjTLc7HAKwQ0goJpM8_6ukOhIaOLH0kN-a=s64",
      "userId": "16006199522535406723"
     },
     "user_tz": -120
    },
    "id": "d9Zo1eiX8SYf"
   },
   "outputs": [],
   "source": [
    "df = df.dropna()"
   ]
  },
  {
   "cell_type": "markdown",
   "metadata": {
    "id": "23W5zzuhE_3Y"
   },
   "source": [
    "## observe most frequent values of the categoricals"
   ]
  },
  {
   "cell_type": "code",
   "execution_count": 60,
   "metadata": {
    "executionInfo": {
     "elapsed": 419,
     "status": "ok",
     "timestamp": 1644526735161,
     "user": {
      "displayName": "Amnon Lotenberg",
      "photoUrl": "https://lh3.googleusercontent.com/a-/AOh14GhI9NtjTLc7HAKwQ0goJpM8_6ukOhIaOLH0kN-a=s64",
      "userId": "16006199522535406723"
     },
     "user_tz": -120
    },
    "id": "47oLxfOQbla8"
   },
   "outputs": [],
   "source": [
    "import matplotlib.pyplot as plt\n"
   ]
  },
  {
   "cell_type": "code",
   "execution_count": 61,
   "metadata": {
    "colab": {
     "base_uri": "https://localhost:8080/",
     "height": 400
    },
    "executionInfo": {
     "elapsed": 818,
     "status": "ok",
     "timestamp": 1644526737402,
     "user": {
      "displayName": "Amnon Lotenberg",
      "photoUrl": "https://lh3.googleusercontent.com/a-/AOh14GhI9NtjTLc7HAKwQ0goJpM8_6ukOhIaOLH0kN-a=s64",
      "userId": "16006199522535406723"
     },
     "user_tz": -120
    },
    "id": "zgrzfVuiIXkc",
    "outputId": "c85581cb-3ab1-4512-966e-fc5021f1737e"
   },
   "outputs": [
    {
     "data": {
      "text/plain": [
       "<matplotlib.axes._subplots.AxesSubplot at 0x7f1615374350>"
      ]
     },
     "execution_count": 61,
     "metadata": {},
     "output_type": "execute_result"
    },
    {
     "data": {
      "image/png": "[encoded data removed]",
      "text/plain": [
       "<Figure size 1440x360 with 1 Axes>"
      ]
     },
     "metadata": {
      "needs_background": "light"
     },
     "output_type": "display_data"
    }
   ],
   "source": [
    "df.subreddit.value_counts().plot(ax=plt.subplots()[1], figsize=(20,5), kind='bar')"
   ]
  },
  {
   "cell_type": "markdown",
   "metadata": {
    "id": "aZ73SxFIFKwW"
   },
   "source": [
    "Looks like there's a long tail of subreddits. \n",
    "\n",
    "Since this is a target column, for simplicity, let's drop posts of rare subreddits, those that constitute < 1% of the dataset."
   ]
  },
  {
   "cell_type": "code",
   "execution_count": 62,
   "metadata": {
    "colab": {
     "base_uri": "https://localhost:8080/"
    },
    "executionInfo": {
     "elapsed": 533,
     "status": "ok",
     "timestamp": 1644526744084,
     "user": {
      "displayName": "Amnon Lotenberg",
      "photoUrl": "https://lh3.googleusercontent.com/a-/AOh14GhI9NtjTLc7HAKwQ0goJpM8_6ukOhIaOLH0kN-a=s64",
      "userId": "16006199522535406723"
     },
     "user_tz": -120
    },
    "id": "7Khe3FWxFcav",
    "outputId": "99a0f1f0-2795-4593-b284-beaf6b070606"
   },
   "outputs": [
    {
     "name": "stdout",
     "output_type": "stream",
     "text": [
      "total posts == 447523, # subreddits == 32\n",
      "removing posts of subreddits with less than 4475 posts\n",
      "The new # total posts == 421073\n",
      "Now 21 non-rare subreddits remain.\n",
      "They are: {'environment', 'pics', 'comics', 'business', 'WTF', 'science', 'politics', 'offbeat', 'worldnews', 'funny', 'Marijuana', 'atheism', 'Music', 'entertainment', 'canada', 'videos', 'Economics', 'programming', 'linux', 'gaming', 'technology'}\n"
     ]
    }
   ],
   "source": [
    "N = df.shape[0]\n",
    "print(f'total posts == {N}, # subreddits == {df.subreddit.unique().shape[0]}')\n",
    "min_freq = N // 100\n",
    "print(f'removing posts of subreddits with less than {min_freq} posts')\n",
    "vc = df.subreddit.value_counts()\n",
    "subreddits_to_retain = set(vc[vc > min_freq].index)\n",
    "df = df.loc[df.subreddit.isin(subreddits_to_retain), :]\n",
    "new_N = df.shape[0]\n",
    "print(f'The new # total posts == {new_N}')\n",
    "n_target_clusters = len(subreddits_to_retain)\n",
    "print(f'Now {n_target_clusters} non-rare subreddits remain.')\n",
    "print(f'They are: {subreddits_to_retain}')\n",
    "\n",
    "df['subreddit'] = df.loc[:,'subreddit'].astype(\"string\").astype(\"category\")"
   ]
  },
  {
   "cell_type": "code",
   "execution_count": 63,
   "metadata": {
    "colab": {
     "base_uri": "https://localhost:8080/",
     "height": 400
    },
    "executionInfo": {
     "elapsed": 730,
     "status": "ok",
     "timestamp": 1644526745614,
     "user": {
      "displayName": "Amnon Lotenberg",
      "photoUrl": "https://lh3.googleusercontent.com/a-/AOh14GhI9NtjTLc7HAKwQ0goJpM8_6ukOhIaOLH0kN-a=s64",
      "userId": "16006199522535406723"
     },
     "user_tz": -120
    },
    "id": "0gsOr-C0LBrs",
    "outputId": "19a90f43-af2d-4df1-fbc0-af195dfb7073"
   },
   "outputs": [
    {
     "data": {
      "text/plain": [
       "<matplotlib.axes._subplots.AxesSubplot at 0x7f1615a2d8d0>"
      ]
     },
     "execution_count": 63,
     "metadata": {},
     "output_type": "execute_result"
    },
    {
     "data": {
      "image/png": "[encoded data removed]",
      "text/plain": [
       "<Figure size 1440x360 with 1 Axes>"
      ]
     },
     "metadata": {
      "needs_background": "light"
     },
     "output_type": "display_data"
    }
   ],
   "source": [
    "df.subreddit.value_counts().plot(ax=plt.subplots()[1], figsize=(20,5), kind='bar')"
   ]
  },
  {
   "cell_type": "markdown",
   "metadata": {
    "id": "rOs3HpijuWol"
   },
   "source": [
    "Looks like we've trimmed that long tail"
   ]
  },
  {
   "cell_type": "markdown",
   "metadata": {
    "id": "zaiPFSeA6aSr"
   },
   "source": [
    "## What is the average length of posts, broken by subreddit"
   ]
  },
  {
   "cell_type": "code",
   "execution_count": 64,
   "metadata": {
    "colab": {
     "base_uri": "https://localhost:8080/",
     "height": 430
    },
    "executionInfo": {
     "elapsed": 676,
     "status": "ok",
     "timestamp": 1644526746277,
     "user": {
      "displayName": "Amnon Lotenberg",
      "photoUrl": "https://lh3.googleusercontent.com/a-/AOh14GhI9NtjTLc7HAKwQ0goJpM8_6ukOhIaOLH0kN-a=s64",
      "userId": "16006199522535406723"
     },
     "user_tz": -120
    },
    "id": "XMAQzEBA8xjC",
    "outputId": "9716a0cb-de44-4d61-d486-bf63cf030732"
   },
   "outputs": [
    {
     "data": {
      "text/plain": [
       "<matplotlib.axes._subplots.AxesSubplot at 0x7f1615919d90>"
      ]
     },
     "execution_count": 64,
     "metadata": {},
     "output_type": "execute_result"
    },
    {
     "data": {
      "image/png": "[encoded data removed]",
      "text/plain": [
       "<Figure size 1440x360 with 1 Axes>"
      ]
     },
     "metadata": {
      "needs_background": "light"
     },
     "output_type": "display_data"
    }
   ],
   "source": [
    "df.groupby('subreddit').agg({'body': lambda texts: texts.map(len).mean()}).body.plot.bar( figsize=(20, 5), \n",
    "                                                                                         title=\"avg. post len by subreddit\")"
   ]
  },
  {
   "cell_type": "markdown",
   "metadata": {
    "id": "hkcnQxXeG5N1"
   },
   "source": [
    "Most posts are 100-200 chars long, which is short, like tweets. So further below we should consider tools that work well on short texts of social media.\n",
    "\n",
    "Otherwise, this seems like a legitimate, fairly-uniform, distribution."
   ]
  },
  {
   "cell_type": "markdown",
   "metadata": {
    "id": "skDBqNkRquku"
   },
   "source": [
    "## Observe and get a feeling for  a sample of individual posts\n",
    "\n",
    "use the interactive table feature (built in to colab) to filter and sort"
   ]
  },
  {
   "cell_type": "code",
   "execution_count": 65,
   "metadata": {
    "colab": {
     "base_uri": "https://localhost:8080/",
     "height": 424
    },
    "executionInfo": {
     "elapsed": 13,
     "status": "ok",
     "timestamp": 1644526746278,
     "user": {
      "displayName": "Amnon Lotenberg",
      "photoUrl": "https://lh3.googleusercontent.com/a-/AOh14GhI9NtjTLc7HAKwQ0goJpM8_6ukOhIaOLH0kN-a=s64",
      "userId": "16006199522535406723"
     },
     "user_tz": -120
    },
    "id": "DTSWicPeq4Gm",
    "outputId": "f6d54363-a137-4b5e-8442-7a203f8c85f8"
   },
   "outputs": [
    {
     "data": {
      "text/html": [
       "\n",
       "  <div id=\"df-77ca2179-82b2-4a69-9322-71c344b1885d\">\n",
       "    <div class=\"colab-df-container\">\n",
       "      <div>\n",
       "<style scoped>\n",
       "    .dataframe tbody tr th:only-of-type {\n",
       "        vertical-align: middle;\n",
       "    }\n",
       "\n",
       "    .dataframe tbody tr th {\n",
       "        vertical-align: top;\n",
       "    }\n",
       "\n",
       "    .dataframe thead th {\n",
       "        text-align: right;\n",
       "    }\n",
       "</style>\n",
       "<table border=\"1\" class=\"dataframe\">\n",
       "  <thead>\n",
       "    <tr style=\"text-align: right;\">\n",
       "      <th></th>\n",
       "      <th>body</th>\n",
       "    </tr>\n",
       "  </thead>\n",
       "  <tbody>\n",
       "    <tr>\n",
       "      <th>11790</th>\n",
       "      <td>I upmodded because I'm drunk.</td>\n",
       "    </tr>\n",
       "    <tr>\n",
       "      <th>428179</th>\n",
       "      <td>I define quality as not being \"worse\". It's ti...</td>\n",
       "    </tr>\n",
       "    <tr>\n",
       "      <th>47317</th>\n",
       "      <td>[Mass Effect on Steam does not have SecuROM](h...</td>\n",
       "    </tr>\n",
       "    <tr>\n",
       "      <th>71365</th>\n",
       "      <td>But look at how many politicians have died in ...</td>\n",
       "    </tr>\n",
       "    <tr>\n",
       "      <th>497879</th>\n",
       "      <td>And that chemical release is absolutely essent...</td>\n",
       "    </tr>\n",
       "    <tr>\n",
       "      <th>...</th>\n",
       "      <td>...</td>\n",
       "    </tr>\n",
       "    <tr>\n",
       "      <th>331675</th>\n",
       "      <td>Rather obvious good cop, bad cop routine.  The...</td>\n",
       "    </tr>\n",
       "    <tr>\n",
       "      <th>1555</th>\n",
       "      <td>if he does, it will be because he thinks so......</td>\n",
       "    </tr>\n",
       "    <tr>\n",
       "      <th>502341</th>\n",
       "      <td>she could have killed two birds with one stone...</td>\n",
       "    </tr>\n",
       "    <tr>\n",
       "      <th>315560</th>\n",
       "      <td>[Modest Mouse and Califone - South of Heaven](...</td>\n",
       "    </tr>\n",
       "    <tr>\n",
       "      <th>352482</th>\n",
       "      <td>Today Reddit, tomorrow the world.</td>\n",
       "    </tr>\n",
       "  </tbody>\n",
       "</table>\n",
       "<p>1000 rows × 1 columns</p>\n",
       "</div>\n",
       "      <button class=\"colab-df-convert\" onclick=\"convertToInteractive('df-77ca2179-82b2-4a69-9322-71c344b1885d')\"\n",
       "              title=\"Convert this dataframe to an interactive table.\"\n",
       "              style=\"display:none;\">\n",
       "        \n",
       "  <svg xmlns=\"http://www.w3.org/2000/svg\" height=\"24px\"viewBox=\"0 0 24 24\"\n",
       "       width=\"24px\">\n",
       "    <path d=\"M0 0h24v24H0V0z\" fill=\"none\"/>\n",
       "    <path d=\"M18.56 5.44l.94 2.06.94-2.06 2.06-.94-2.06-.94-.94-2.06-.94 2.06-2.06.94zm-11 1L8.5 8.5l.94-2.06 2.06-.94-2.06-.94L8.5 2.5l-.94 2.06-2.06.94zm10 10l.94 2.06.94-2.06 2.06-.94-2.06-.94-.94-2.06-.94 2.06-2.06.94z\"/><path d=\"M17.41 7.96l-1.37-1.37c-.4-.4-.92-.59-1.43-.59-.52 0-1.04.2-1.43.59L10.3 9.45l-7.72 7.72c-.78.78-.78 2.05 0 2.83L4 21.41c.39.39.9.59 1.41.59.51 0 1.02-.2 1.41-.59l7.78-7.78 2.81-2.81c.8-.78.8-2.07 0-2.86zM5.41 20L4 18.59l7.72-7.72 1.47 1.35L5.41 20z\"/>\n",
       "  </svg>\n",
       "      </button>\n",
       "      \n",
       "  <style>\n",
       "    .colab-df-container {\n",
       "      display:flex;\n",
       "      flex-wrap:wrap;\n",
       "      gap: 12px;\n",
       "    }\n",
       "\n",
       "    .colab-df-convert {\n",
       "      background-color: #E8F0FE;\n",
       "      border: none;\n",
       "      border-radius: 50%;\n",
       "      cursor: pointer;\n",
       "      display: none;\n",
       "      fill: #1967D2;\n",
       "      height: 32px;\n",
       "      padding: 0 0 0 0;\n",
       "      width: 32px;\n",
       "    }\n",
       "\n",
       "    .colab-df-convert:hover {\n",
       "      background-color: #E2EBFA;\n",
       "      box-shadow: 0px 1px 2px rgba(60, 64, 67, 0.3), 0px 1px 3px 1px rgba(60, 64, 67, 0.15);\n",
       "      fill: #174EA6;\n",
       "    }\n",
       "\n",
       "    [theme=dark] .colab-df-convert {\n",
       "      background-color: #3B4455;\n",
       "      fill: #D2E3FC;\n",
       "    }\n",
       "\n",
       "    [theme=dark] .colab-df-convert:hover {\n",
       "      background-color: #434B5C;\n",
       "      box-shadow: 0px 1px 3px 1px rgba(0, 0, 0, 0.15);\n",
       "      filter: drop-shadow(0px 1px 2px rgba(0, 0, 0, 0.3));\n",
       "      fill: #FFFFFF;\n",
       "    }\n",
       "  </style>\n",
       "\n",
       "      <script>\n",
       "        const buttonEl =\n",
       "          document.querySelector('#df-77ca2179-82b2-4a69-9322-71c344b1885d button.colab-df-convert');\n",
       "        buttonEl.style.display =\n",
       "          google.colab.kernel.accessAllowed ? 'block' : 'none';\n",
       "\n",
       "        async function convertToInteractive(key) {\n",
       "          const element = document.querySelector('#df-77ca2179-82b2-4a69-9322-71c344b1885d');\n",
       "          const dataTable =\n",
       "            await google.colab.kernel.invokeFunction('convertToInteractive',\n",
       "                                                     [key], {});\n",
       "          if (!dataTable) return;\n",
       "\n",
       "          const docLinkHtml = 'Like what you see? Visit the ' +\n",
       "            '<a target=\"_blank\" href=https://colab.research.google.com/notebooks/data_table.ipynb>data table notebook</a>'\n",
       "            + ' to learn more about interactive tables.';\n",
       "          element.innerHTML = '';\n",
       "          dataTable['output_type'] = 'display_data';\n",
       "          await google.colab.output.renderOutput(dataTable, element);\n",
       "          const docLink = document.createElement('div');\n",
       "          docLink.innerHTML = docLinkHtml;\n",
       "          element.appendChild(docLink);\n",
       "        }\n",
       "      </script>\n",
       "    </div>\n",
       "  </div>\n",
       "  "
      ],
      "text/plain": [
       "                                                     body\n",
       "11790                       I upmodded because I'm drunk.\n",
       "428179  I define quality as not being \"worse\". It's ti...\n",
       "47317   [Mass Effect on Steam does not have SecuROM](h...\n",
       "71365   But look at how many politicians have died in ...\n",
       "497879  And that chemical release is absolutely essent...\n",
       "...                                                   ...\n",
       "331675  Rather obvious good cop, bad cop routine.  The...\n",
       "1555    if he does, it will be because he thinks so......\n",
       "502341  she could have killed two birds with one stone...\n",
       "315560  [Modest Mouse and Califone - South of Heaven](...\n",
       "352482                  Today Reddit, tomorrow the world.\n",
       "\n",
       "[1000 rows x 1 columns]"
      ]
     },
     "execution_count": 65,
     "metadata": {},
     "output_type": "execute_result"
    }
   ],
   "source": [
    "df.sample(1000, random_state=7)[['body']]"
   ]
  },
  {
   "cell_type": "markdown",
   "metadata": {
    "id": "-ZpFUVzdrKsZ"
   },
   "source": [
    "Seems like we will want to remove some common nonsensical tokens like \"%gt;\" and URLs. \n",
    "There's some slang and typos, but not much. So we might need to use a byte pair based embedding scheme, to embed the non standard languge, and we might do fine w/o that."
   ]
  },
  {
   "cell_type": "markdown",
   "metadata": {
    "id": "fdC5n6KjDhYq"
   },
   "source": [
    "## Here's the distribution of \"Score\". not sure what this column means, so I have nothing to say"
   ]
  },
  {
   "cell_type": "code",
   "execution_count": 66,
   "metadata": {
    "colab": {
     "base_uri": "https://localhost:8080/",
     "height": 338
    },
    "executionInfo": {
     "elapsed": 1414,
     "status": "ok",
     "timestamp": 1644526747681,
     "user": {
      "displayName": "Amnon Lotenberg",
      "photoUrl": "https://lh3.googleusercontent.com/a-/AOh14GhI9NtjTLc7HAKwQ0goJpM8_6ukOhIaOLH0kN-a=s64",
      "userId": "16006199522535406723"
     },
     "user_tz": -120
    },
    "id": "1jiOmteq37kE",
    "outputId": "0b08036b-cd4b-4ae6-97d0-5caaa2283748"
   },
   "outputs": [
    {
     "data": {
      "text/plain": [
       "<matplotlib.axes._subplots.AxesSubplot at 0x7f1615869450>"
      ]
     },
     "execution_count": 66,
     "metadata": {},
     "output_type": "execute_result"
    },
    {
     "data": {
      "image/png": "[encoded data removed]",
      "text/plain": [
       "<Figure size 1440x360 with 1 Axes>"
      ]
     },
     "metadata": {
      "needs_background": "light"
     },
     "output_type": "display_data"
    }
   ],
   "source": [
    "df[(df.score< df.score.quantile(0.95)) & (df.score > df.score.quantile(0.05)) ].score.hist(bins=80, figsize=(20, 5))"
   ]
  },
  {
   "cell_type": "markdown",
   "metadata": {
    "id": "VmU-x2NUruoh"
   },
   "source": [
    "## look at stats on other columns"
   ]
  },
  {
   "cell_type": "code",
   "execution_count": 67,
   "metadata": {
    "colab": {
     "base_uri": "https://localhost:8080/",
     "height": 332
    },
    "executionInfo": {
     "elapsed": 1077,
     "status": "ok",
     "timestamp": 1644526748752,
     "user": {
      "displayName": "Amnon Lotenberg",
      "photoUrl": "https://lh3.googleusercontent.com/a-/AOh14GhI9NtjTLc7HAKwQ0goJpM8_6ukOhIaOLH0kN-a=s64",
      "userId": "16006199522535406723"
     },
     "user_tz": -120
    },
    "id": "UXx1dh6239kL",
    "outputId": "ed1b7486-51e4-4f22-afd8-868b4b576497"
   },
   "outputs": [
    {
     "name": "stderr",
     "output_type": "stream",
     "text": [
      "/usr/local/lib/python3.7/dist-packages/ipykernel_launcher.py:3: FutureWarning:\n",
      "\n",
      "Treating datetime data as categorical rather than numeric in `.describe` is deprecated and will be removed in a future version of pandas. Specify `datetime_is_numeric=True` to silence this warning and adopt the future behavior now.\n",
      "\n"
     ]
    },
    {
     "data": {
      "text/html": [
       "\n",
       "  <div id=\"df-52ddd92f-163c-4067-b4ff-494aa15c7a1b\">\n",
       "    <div class=\"colab-df-container\">\n",
       "      <div>\n",
       "<style scoped>\n",
       "    .dataframe tbody tr th:only-of-type {\n",
       "        vertical-align: middle;\n",
       "    }\n",
       "\n",
       "    .dataframe tbody tr th {\n",
       "        vertical-align: top;\n",
       "    }\n",
       "\n",
       "    .dataframe thead th {\n",
       "        text-align: right;\n",
       "    }\n",
       "</style>\n",
       "<table border=\"1\" class=\"dataframe\">\n",
       "  <thead>\n",
       "    <tr style=\"text-align: right;\">\n",
       "      <th></th>\n",
       "      <th>author</th>\n",
       "      <th>body</th>\n",
       "      <th>created_utc</th>\n",
       "      <th>subreddit</th>\n",
       "      <th>id</th>\n",
       "    </tr>\n",
       "  </thead>\n",
       "  <tbody>\n",
       "    <tr>\n",
       "      <th>count</th>\n",
       "      <td>421073</td>\n",
       "      <td>421073</td>\n",
       "      <td>421073</td>\n",
       "      <td>421073</td>\n",
       "      <td>421073</td>\n",
       "    </tr>\n",
       "    <tr>\n",
       "      <th>unique</th>\n",
       "      <td>26077</td>\n",
       "      <td>418553</td>\n",
       "      <td>384957</td>\n",
       "      <td>21</td>\n",
       "      <td>421073</td>\n",
       "    </tr>\n",
       "    <tr>\n",
       "      <th>top</th>\n",
       "      <td>[deleted]</td>\n",
       "      <td>I see what you did there.</td>\n",
       "      <td>2008-12-12 21:28:16</td>\n",
       "      <td>politics</td>\n",
       "      <td>2</td>\n",
       "    </tr>\n",
       "    <tr>\n",
       "      <th>freq</th>\n",
       "      <td>87686</td>\n",
       "      <td>55</td>\n",
       "      <td>6</td>\n",
       "      <td>55612</td>\n",
       "      <td>1</td>\n",
       "    </tr>\n",
       "    <tr>\n",
       "      <th>first</th>\n",
       "      <td>NaN</td>\n",
       "      <td>NaN</td>\n",
       "      <td>2008-12-01 02:00:02</td>\n",
       "      <td>NaN</td>\n",
       "      <td>NaN</td>\n",
       "    </tr>\n",
       "    <tr>\n",
       "      <th>last</th>\n",
       "      <td>NaN</td>\n",
       "      <td>NaN</td>\n",
       "      <td>2009-01-01 01:59:58</td>\n",
       "      <td>NaN</td>\n",
       "      <td>NaN</td>\n",
       "    </tr>\n",
       "  </tbody>\n",
       "</table>\n",
       "</div>\n",
       "      <button class=\"colab-df-convert\" onclick=\"convertToInteractive('df-52ddd92f-163c-4067-b4ff-494aa15c7a1b')\"\n",
       "              title=\"Convert this dataframe to an interactive table.\"\n",
       "              style=\"display:none;\">\n",
       "        \n",
       "  <svg xmlns=\"http://www.w3.org/2000/svg\" height=\"24px\"viewBox=\"0 0 24 24\"\n",
       "       width=\"24px\">\n",
       "    <path d=\"M0 0h24v24H0V0z\" fill=\"none\"/>\n",
       "    <path d=\"M18.56 5.44l.94 2.06.94-2.06 2.06-.94-2.06-.94-.94-2.06-.94 2.06-2.06.94zm-11 1L8.5 8.5l.94-2.06 2.06-.94-2.06-.94L8.5 2.5l-.94 2.06-2.06.94zm10 10l.94 2.06.94-2.06 2.06-.94-2.06-.94-.94-2.06-.94 2.06-2.06.94z\"/><path d=\"M17.41 7.96l-1.37-1.37c-.4-.4-.92-.59-1.43-.59-.52 0-1.04.2-1.43.59L10.3 9.45l-7.72 7.72c-.78.78-.78 2.05 0 2.83L4 21.41c.39.39.9.59 1.41.59.51 0 1.02-.2 1.41-.59l7.78-7.78 2.81-2.81c.8-.78.8-2.07 0-2.86zM5.41 20L4 18.59l7.72-7.72 1.47 1.35L5.41 20z\"/>\n",
       "  </svg>\n",
       "      </button>\n",
       "      \n",
       "  <style>\n",
       "    .colab-df-container {\n",
       "      display:flex;\n",
       "      flex-wrap:wrap;\n",
       "      gap: 12px;\n",
       "    }\n",
       "\n",
       "    .colab-df-convert {\n",
       "      background-color: #E8F0FE;\n",
       "      border: none;\n",
       "      border-radius: 50%;\n",
       "      cursor: pointer;\n",
       "      display: none;\n",
       "      fill: #1967D2;\n",
       "      height: 32px;\n",
       "      padding: 0 0 0 0;\n",
       "      width: 32px;\n",
       "    }\n",
       "\n",
       "    .colab-df-convert:hover {\n",
       "      background-color: #E2EBFA;\n",
       "      box-shadow: 0px 1px 2px rgba(60, 64, 67, 0.3), 0px 1px 3px 1px rgba(60, 64, 67, 0.15);\n",
       "      fill: #174EA6;\n",
       "    }\n",
       "\n",
       "    [theme=dark] .colab-df-convert {\n",
       "      background-color: #3B4455;\n",
       "      fill: #D2E3FC;\n",
       "    }\n",
       "\n",
       "    [theme=dark] .colab-df-convert:hover {\n",
       "      background-color: #434B5C;\n",
       "      box-shadow: 0px 1px 3px 1px rgba(0, 0, 0, 0.15);\n",
       "      filter: drop-shadow(0px 1px 2px rgba(0, 0, 0, 0.3));\n",
       "      fill: #FFFFFF;\n",
       "    }\n",
       "  </style>\n",
       "\n",
       "      <script>\n",
       "        const buttonEl =\n",
       "          document.querySelector('#df-52ddd92f-163c-4067-b4ff-494aa15c7a1b button.colab-df-convert');\n",
       "        buttonEl.style.display =\n",
       "          google.colab.kernel.accessAllowed ? 'block' : 'none';\n",
       "\n",
       "        async function convertToInteractive(key) {\n",
       "          const element = document.querySelector('#df-52ddd92f-163c-4067-b4ff-494aa15c7a1b');\n",
       "          const dataTable =\n",
       "            await google.colab.kernel.invokeFunction('convertToInteractive',\n",
       "                                                     [key], {});\n",
       "          if (!dataTable) return;\n",
       "\n",
       "          const docLinkHtml = 'Like what you see? Visit the ' +\n",
       "            '<a target=\"_blank\" href=https://colab.research.google.com/notebooks/data_table.ipynb>data table notebook</a>'\n",
       "            + ' to learn more about interactive tables.';\n",
       "          element.innerHTML = '';\n",
       "          dataTable['output_type'] = 'display_data';\n",
       "          await google.colab.output.renderOutput(dataTable, element);\n",
       "          const docLink = document.createElement('div');\n",
       "          docLink.innerHTML = docLinkHtml;\n",
       "          element.appendChild(docLink);\n",
       "        }\n",
       "      </script>\n",
       "    </div>\n",
       "  </div>\n",
       "  "
      ],
      "text/plain": [
       "           author                       body  ... subreddit      id\n",
       "count      421073                     421073  ...    421073  421073\n",
       "unique      26077                     418553  ...        21  421073\n",
       "top     [deleted]  I see what you did there.  ...  politics       2\n",
       "freq        87686                         55  ...     55612       1\n",
       "first         NaN                        NaN  ...       NaN     NaN\n",
       "last          NaN                        NaN  ...       NaN     NaN\n",
       "\n",
       "[6 rows x 5 columns]"
      ]
     },
     "execution_count": 67,
     "metadata": {},
     "output_type": "execute_result"
    }
   ],
   "source": [
    "cols = df.columns.to_list()\n",
    "cols.remove('score')\n",
    "df[cols].describe()"
   ]
  },
  {
   "cell_type": "markdown",
   "metadata": {
    "id": "pQWGdCsbPG_3"
   },
   "source": [
    "## look for some changes over time"
   ]
  },
  {
   "cell_type": "code",
   "execution_count": 68,
   "metadata": {
    "colab": {
     "base_uri": "https://localhost:8080/",
     "height": 352
    },
    "executionInfo": {
     "elapsed": 758,
     "status": "ok",
     "timestamp": 1644526749489,
     "user": {
      "displayName": "Amnon Lotenberg",
      "photoUrl": "https://lh3.googleusercontent.com/a-/AOh14GhI9NtjTLc7HAKwQ0goJpM8_6ukOhIaOLH0kN-a=s64",
      "userId": "16006199522535406723"
     },
     "user_tz": -120
    },
    "id": "pX5N3XmSPLFz",
    "outputId": "719372a3-877d-4f40-a17d-9b4be8aa0203"
   },
   "outputs": [
    {
     "data": {
      "text/plain": [
       "<matplotlib.axes._subplots.AxesSubplot at 0x7f16158db2d0>"
      ]
     },
     "execution_count": 68,
     "metadata": {},
     "output_type": "execute_result"
    },
    {
     "data": {
      "image/png": "[encoded data removed]",
      "text/plain": [
       "<Figure size 1440x360 with 1 Axes>"
      ]
     },
     "metadata": {
      "needs_background": "light"
     },
     "output_type": "display_data"
    }
   ],
   "source": [
    "df.groupby(df['created_utc'].rename('Date').dt.date).size().plot(figsize=(20,5))"
   ]
  },
  {
   "cell_type": "markdown",
   "metadata": {
    "id": "wt8eaWP7QMRI"
   },
   "source": [
    "Looks like ppl post a lot at work, and post a little on wknds and holidays (xmas)"
   ]
  },
  {
   "cell_type": "code",
   "execution_count": 69,
   "metadata": {
    "colab": {
     "base_uri": "https://localhost:8080/",
     "height": 334
    },
    "executionInfo": {
     "elapsed": 1033,
     "status": "ok",
     "timestamp": 1644526750513,
     "user": {
      "displayName": "Amnon Lotenberg",
      "photoUrl": "https://lh3.googleusercontent.com/a-/AOh14GhI9NtjTLc7HAKwQ0goJpM8_6ukOhIaOLH0kN-a=s64",
      "userId": "16006199522535406723"
     },
     "user_tz": -120
    },
    "id": "t1GEdl1UQUkQ",
    "outputId": "f329c3e5-585e-4c03-857b-6effba18c1a8"
   },
   "outputs": [
    {
     "data": {
      "image/png": "[encoded data removed]",
      "text/plain": [
       "<Figure size 1440x360 with 1 Axes>"
      ]
     },
     "metadata": {
      "needs_background": "light"
     },
     "output_type": "display_data"
    }
   ],
   "source": [
    "top_5_subreddits = df.subreddit.value_counts().index[:5].tolist()\n",
    "top_5_subreddits\n",
    "for subreddit in top_5_subreddits:\n",
    "  df[df.subreddit==subreddit].groupby(df['created_utc'].rename('Date').dt.date).size().plot(figsize=(20,5))\n"
   ]
  },
  {
   "cell_type": "markdown",
   "metadata": {
    "id": "G1lAHKJKQ4do"
   },
   "source": [
    "Looks like the top 5 most popular subreddits follow the pattern as the whole, with some small variations and skews. we'll look deeper into time patterns below."
   ]
  },
  {
   "cell_type": "markdown",
   "metadata": {
    "id": "jiP_DMz0RWJe"
   },
   "source": [
    "at what time do ppl post?"
   ]
  },
  {
   "cell_type": "code",
   "execution_count": 70,
   "metadata": {
    "colab": {
     "base_uri": "https://localhost:8080/",
     "height": 352
    },
    "executionInfo": {
     "elapsed": 68,
     "status": "ok",
     "timestamp": 1644526751563,
     "user": {
      "displayName": "Amnon Lotenberg",
      "photoUrl": "https://lh3.googleusercontent.com/a-/AOh14GhI9NtjTLc7HAKwQ0goJpM8_6ukOhIaOLH0kN-a=s64",
      "userId": "16006199522535406723"
     },
     "user_tz": -120
    },
    "id": "UhQUtRQmRY0E",
    "outputId": "af72c85c-e60b-422c-d413-12124940bd88"
   },
   "outputs": [
    {
     "data": {
      "text/plain": [
       "<matplotlib.axes._subplots.AxesSubplot at 0x7f162164ac90>"
      ]
     },
     "execution_count": 70,
     "metadata": {},
     "output_type": "execute_result"
    },
    {
     "data": {
      "image/png": "[encoded data removed]",
      "text/plain": [
       "<Figure size 1440x360 with 1 Axes>"
      ]
     },
     "metadata": {
      "needs_background": "light"
     },
     "output_type": "display_data"
    }
   ],
   "source": [
    "(df[(df.created_utc >= '2008-12-03') & (df.created_utc <= '2008-12-04')]\n",
    " .groupby(df['created_utc']\n",
    "          .rename('Date').dt.hour)\n",
    " .size()\n",
    " .plot(figsize=(20,5)))"
   ]
  },
  {
   "cell_type": "markdown",
   "metadata": {
    "id": "myFgB-viSKUl"
   },
   "source": [
    "Seems like most posts occur between 17:00 and 01:00 UTC, so probably most authors live around the US west coast. "
   ]
  },
  {
   "cell_type": "markdown",
   "metadata": {
    "id": "oFqqXH4XEFRf"
   },
   "source": [
    "## Look at author"
   ]
  },
  {
   "cell_type": "code",
   "execution_count": 71,
   "metadata": {
    "colab": {
     "base_uri": "https://localhost:8080/",
     "height": 456
    },
    "executionInfo": {
     "elapsed": 66,
     "status": "ok",
     "timestamp": 1644526751564,
     "user": {
      "displayName": "Amnon Lotenberg",
      "photoUrl": "https://lh3.googleusercontent.com/a-/AOh14GhI9NtjTLc7HAKwQ0goJpM8_6ukOhIaOLH0kN-a=s64",
      "userId": "16006199522535406723"
     },
     "user_tz": -120
    },
    "id": "ewfSCZNM6cCy",
    "outputId": "a921c9cc-7cf4-4734-f80c-ac1632dff3e3"
   },
   "outputs": [
    {
     "data": {
      "text/plain": [
       "<matplotlib.axes._subplots.AxesSubplot at 0x7f16153afa50>"
      ]
     },
     "execution_count": 71,
     "metadata": {},
     "output_type": "execute_result"
    },
    {
     "data": {
      "image/png": "[encoded data removed]",
      "text/plain": [
       "<Figure size 1440x360 with 1 Axes>"
      ]
     },
     "metadata": {
      "needs_background": "light"
     },
     "output_type": "display_data"
    }
   ],
   "source": [
    "df.author.value_counts()[:40].plot(ax=plt.subplots()[1], \n",
    "                                   figsize=(20,5), \n",
    "                                   kind='bar',\n",
    "                                   title='top 40 authors'\n",
    "                                   )"
   ]
  },
  {
   "cell_type": "markdown",
   "metadata": {
    "id": "5dTM2GJO4KtQ"
   },
   "source": [
    "Seems like most posts were made by users that have been deleted.\n",
    "\n",
    "So what's the distribution of authors that are not \"deleted\"?\n",
    "\n",
    "...Seems there's a long tail"
   ]
  },
  {
   "cell_type": "code",
   "execution_count": 72,
   "metadata": {
    "colab": {
     "base_uri": "https://localhost:8080/",
     "height": 456
    },
    "executionInfo": {
     "elapsed": 835,
     "status": "ok",
     "timestamp": 1644526752339,
     "user": {
      "displayName": "Amnon Lotenberg",
      "photoUrl": "https://lh3.googleusercontent.com/a-/AOh14GhI9NtjTLc7HAKwQ0goJpM8_6ukOhIaOLH0kN-a=s64",
      "userId": "16006199522535406723"
     },
     "user_tz": -120
    },
    "id": "4pVv4p8nEgel",
    "outputId": "c95699b5-3680-4458-b156-babee239b110"
   },
   "outputs": [
    {
     "data": {
      "text/plain": [
       "<matplotlib.axes._subplots.AxesSubplot at 0x7f16155ec610>"
      ]
     },
     "execution_count": 72,
     "metadata": {},
     "output_type": "execute_result"
    },
    {
     "data": {
      "image/png": "[encoded data removed]",
      "text/plain": [
       "<Figure size 1440x360 with 1 Axes>"
      ]
     },
     "metadata": {
      "needs_background": "light"
     },
     "output_type": "display_data"
    }
   ],
   "source": [
    "(df.author\n",
    " .drop(df[df.author == '[deleted]'].index).value_counts()[:40].plot(ax=plt.subplots()[1], \n",
    "                                                                    figsize=(20,5), \n",
    "                                                                    kind='bar',\n",
    "                                                                    title='top 40 authors, without \"[deleted]\"'\n",
    "                                                                    ))\n"
   ]
  },
  {
   "cell_type": "code",
   "execution_count": 73,
   "metadata": {
    "colab": {
     "base_uri": "https://localhost:8080/",
     "height": 438
    },
    "executionInfo": {
     "elapsed": 800,
     "status": "ok",
     "timestamp": 1644526753100,
     "user": {
      "displayName": "Amnon Lotenberg",
      "photoUrl": "https://lh3.googleusercontent.com/a-/AOh14GhI9NtjTLc7HAKwQ0goJpM8_6ukOhIaOLH0kN-a=s64",
      "userId": "16006199522535406723"
     },
     "user_tz": -120
    },
    "id": "F37kzhxUOhAZ",
    "outputId": "c68e3df8-41fb-4427-a3dc-69667e92e5e0"
   },
   "outputs": [
    {
     "data": {
      "text/plain": [
       "<matplotlib.axes._subplots.AxesSubplot at 0x7f1614902a10>"
      ]
     },
     "execution_count": 73,
     "metadata": {},
     "output_type": "execute_result"
    },
    {
     "data": {
      "image/png": "[encoded data removed]",
      "text/plain": [
       "<Figure size 1440x360 with 1 Axes>"
      ]
     },
     "metadata": {
      "needs_background": "light"
     },
     "output_type": "display_data"
    }
   ],
   "source": [
    "df['author'].drop(df[df.author == '[deleted]'].index).value_counts()\n",
    "(df.author\n",
    " .drop(df[df.author == '[deleted]'].index).value_counts()[-40:].plot(ax=plt.subplots()[1], \n",
    "                                                                    figsize=(20,5), \n",
    "                                                                    kind='bar',\n",
    "                                                                    title='bottom 40 authors'\n",
    "                                                                    ))"
   ]
  },
  {
   "cell_type": "markdown",
   "metadata": {
    "id": "8xh8qwIeveje"
   },
   "source": [
    "## reset index, to keep tidy\n"
   ]
  },
  {
   "cell_type": "code",
   "execution_count": 74,
   "metadata": {
    "executionInfo": {
     "elapsed": 9,
     "status": "ok",
     "timestamp": 1644526753101,
     "user": {
      "displayName": "Amnon Lotenberg",
      "photoUrl": "https://lh3.googleusercontent.com/a-/AOh14GhI9NtjTLc7HAKwQ0goJpM8_6ukOhIaOLH0kN-a=s64",
      "userId": "16006199522535406723"
     },
     "user_tz": -120
    },
    "id": "KIGM_dsgb-O-"
   },
   "outputs": [],
   "source": [
    "df.reset_index(drop=True, inplace=True)"
   ]
  },
  {
   "cell_type": "markdown",
   "metadata": {
    "id": "aTH-0Bluu_NV"
   },
   "source": [
    "# Clean the text b4 embedding\n",
    "\n",
    "remove URLs and \"&\" expressions"
   ]
  },
  {
   "cell_type": "code",
   "execution_count": 75,
   "metadata": {
    "colab": {
     "base_uri": "https://localhost:8080/",
     "height": 424
    },
    "executionInfo": {
     "elapsed": 4221,
     "status": "ok",
     "timestamp": 1644526757314,
     "user": {
      "displayName": "Amnon Lotenberg",
      "photoUrl": "https://lh3.googleusercontent.com/a-/AOh14GhI9NtjTLc7HAKwQ0goJpM8_6ukOhIaOLH0kN-a=s64",
      "userId": "16006199522535406723"
     },
     "user_tz": -120
    },
    "id": "LmMzvn88tDRq",
    "outputId": "3ae67baf-7a6f-4a67-de95-c3b9a5bee80c"
   },
   "outputs": [
    {
     "data": {
      "text/html": [
       "\n",
       "  <div id=\"df-e1766b3a-d88c-400e-92e9-ab00a00eba84\">\n",
       "    <div class=\"colab-df-container\">\n",
       "      <div>\n",
       "<style scoped>\n",
       "    .dataframe tbody tr th:only-of-type {\n",
       "        vertical-align: middle;\n",
       "    }\n",
       "\n",
       "    .dataframe tbody tr th {\n",
       "        vertical-align: top;\n",
       "    }\n",
       "\n",
       "    .dataframe thead th {\n",
       "        text-align: right;\n",
       "    }\n",
       "</style>\n",
       "<table border=\"1\" class=\"dataframe\">\n",
       "  <thead>\n",
       "    <tr style=\"text-align: right;\">\n",
       "      <th></th>\n",
       "      <th>body</th>\n",
       "      <th>body_clean</th>\n",
       "    </tr>\n",
       "  </thead>\n",
       "  <tbody>\n",
       "    <tr>\n",
       "      <th>8979</th>\n",
       "      <td>I upmodded because I'm drunk.</td>\n",
       "      <td>I upmodded because I'm drunk.</td>\n",
       "    </tr>\n",
       "    <tr>\n",
       "      <th>323880</th>\n",
       "      <td>I define quality as not being \"worse\". It's ti...</td>\n",
       "      <td>I define quality as not being \"worse\". It's ti...</td>\n",
       "    </tr>\n",
       "    <tr>\n",
       "      <th>35781</th>\n",
       "      <td>[Mass Effect on Steam does not have SecuROM](h...</td>\n",
       "      <td>Mass Effect on Steam does not have SecuROM  \n",
       "...</td>\n",
       "    </tr>\n",
       "    <tr>\n",
       "      <th>53828</th>\n",
       "      <td>But look at how many politicians have died in ...</td>\n",
       "      <td>But look at how many politicians have died in ...</td>\n",
       "    </tr>\n",
       "    <tr>\n",
       "      <th>376362</th>\n",
       "      <td>And that chemical release is absolutely essent...</td>\n",
       "      <td>And that chemical release is absolutely essent...</td>\n",
       "    </tr>\n",
       "    <tr>\n",
       "      <th>...</th>\n",
       "      <td>...</td>\n",
       "      <td>...</td>\n",
       "    </tr>\n",
       "    <tr>\n",
       "      <th>251015</th>\n",
       "      <td>Rather obvious good cop, bad cop routine.  The...</td>\n",
       "      <td>Rather obvious good cop, bad cop routine.  The...</td>\n",
       "    </tr>\n",
       "    <tr>\n",
       "      <th>1144</th>\n",
       "      <td>if he does, it will be because he thinks so......</td>\n",
       "      <td>if he does, it will be because he thinks so......</td>\n",
       "    </tr>\n",
       "    <tr>\n",
       "      <th>379661</th>\n",
       "      <td>she could have killed two birds with one stone...</td>\n",
       "      <td>she could have killed two birds with one stone...</td>\n",
       "    </tr>\n",
       "    <tr>\n",
       "      <th>238778</th>\n",
       "      <td>[Modest Mouse and Califone - South of Heaven](...</td>\n",
       "      <td>Modest Mouse and Califone - South of Heaven  ...</td>\n",
       "    </tr>\n",
       "    <tr>\n",
       "      <th>266740</th>\n",
       "      <td>Today Reddit, tomorrow the world.</td>\n",
       "      <td>Today Reddit, tomorrow the world.</td>\n",
       "    </tr>\n",
       "  </tbody>\n",
       "</table>\n",
       "<p>1000 rows × 2 columns</p>\n",
       "</div>\n",
       "      <button class=\"colab-df-convert\" onclick=\"convertToInteractive('df-e1766b3a-d88c-400e-92e9-ab00a00eba84')\"\n",
       "              title=\"Convert this dataframe to an interactive table.\"\n",
       "              style=\"display:none;\">\n",
       "        \n",
       "  <svg xmlns=\"http://www.w3.org/2000/svg\" height=\"24px\"viewBox=\"0 0 24 24\"\n",
       "       width=\"24px\">\n",
       "    <path d=\"M0 0h24v24H0V0z\" fill=\"none\"/>\n",
       "    <path d=\"M18.56 5.44l.94 2.06.94-2.06 2.06-.94-2.06-.94-.94-2.06-.94 2.06-2.06.94zm-11 1L8.5 8.5l.94-2.06 2.06-.94-2.06-.94L8.5 2.5l-.94 2.06-2.06.94zm10 10l.94 2.06.94-2.06 2.06-.94-2.06-.94-.94-2.06-.94 2.06-2.06.94z\"/><path d=\"M17.41 7.96l-1.37-1.37c-.4-.4-.92-.59-1.43-.59-.52 0-1.04.2-1.43.59L10.3 9.45l-7.72 7.72c-.78.78-.78 2.05 0 2.83L4 21.41c.39.39.9.59 1.41.59.51 0 1.02-.2 1.41-.59l7.78-7.78 2.81-2.81c.8-.78.8-2.07 0-2.86zM5.41 20L4 18.59l7.72-7.72 1.47 1.35L5.41 20z\"/>\n",
       "  </svg>\n",
       "      </button>\n",
       "      \n",
       "  <style>\n",
       "    .colab-df-container {\n",
       "      display:flex;\n",
       "      flex-wrap:wrap;\n",
       "      gap: 12px;\n",
       "    }\n",
       "\n",
       "    .colab-df-convert {\n",
       "      background-color: #E8F0FE;\n",
       "      border: none;\n",
       "      border-radius: 50%;\n",
       "      cursor: pointer;\n",
       "      display: none;\n",
       "      fill: #1967D2;\n",
       "      height: 32px;\n",
       "      padding: 0 0 0 0;\n",
       "      width: 32px;\n",
       "    }\n",
       "\n",
       "    .colab-df-convert:hover {\n",
       "      background-color: #E2EBFA;\n",
       "      box-shadow: 0px 1px 2px rgba(60, 64, 67, 0.3), 0px 1px 3px 1px rgba(60, 64, 67, 0.15);\n",
       "      fill: #174EA6;\n",
       "    }\n",
       "\n",
       "    [theme=dark] .colab-df-convert {\n",
       "      background-color: #3B4455;\n",
       "      fill: #D2E3FC;\n",
       "    }\n",
       "\n",
       "    [theme=dark] .colab-df-convert:hover {\n",
       "      background-color: #434B5C;\n",
       "      box-shadow: 0px 1px 3px 1px rgba(0, 0, 0, 0.15);\n",
       "      filter: drop-shadow(0px 1px 2px rgba(0, 0, 0, 0.3));\n",
       "      fill: #FFFFFF;\n",
       "    }\n",
       "  </style>\n",
       "\n",
       "      <script>\n",
       "        const buttonEl =\n",
       "          document.querySelector('#df-e1766b3a-d88c-400e-92e9-ab00a00eba84 button.colab-df-convert');\n",
       "        buttonEl.style.display =\n",
       "          google.colab.kernel.accessAllowed ? 'block' : 'none';\n",
       "\n",
       "        async function convertToInteractive(key) {\n",
       "          const element = document.querySelector('#df-e1766b3a-d88c-400e-92e9-ab00a00eba84');\n",
       "          const dataTable =\n",
       "            await google.colab.kernel.invokeFunction('convertToInteractive',\n",
       "                                                     [key], {});\n",
       "          if (!dataTable) return;\n",
       "\n",
       "          const docLinkHtml = 'Like what you see? Visit the ' +\n",
       "            '<a target=\"_blank\" href=https://colab.research.google.com/notebooks/data_table.ipynb>data table notebook</a>'\n",
       "            + ' to learn more about interactive tables.';\n",
       "          element.innerHTML = '';\n",
       "          dataTable['output_type'] = 'display_data';\n",
       "          await google.colab.output.renderOutput(dataTable, element);\n",
       "          const docLink = document.createElement('div');\n",
       "          docLink.innerHTML = docLinkHtml;\n",
       "          element.appendChild(docLink);\n",
       "        }\n",
       "      </script>\n",
       "    </div>\n",
       "  </div>\n",
       "  "
      ],
      "text/plain": [
       "                                                     body                                         body_clean\n",
       "8979                        I upmodded because I'm drunk.                      I upmodded because I'm drunk.\n",
       "323880  I define quality as not being \"worse\". It's ti...  I define quality as not being \"worse\". It's ti...\n",
       "35781   [Mass Effect on Steam does not have SecuROM](h...   Mass Effect on Steam does not have SecuROM  \n",
       "...\n",
       "53828   But look at how many politicians have died in ...  But look at how many politicians have died in ...\n",
       "376362  And that chemical release is absolutely essent...  And that chemical release is absolutely essent...\n",
       "...                                                   ...                                                ...\n",
       "251015  Rather obvious good cop, bad cop routine.  The...  Rather obvious good cop, bad cop routine.  The...\n",
       "1144    if he does, it will be because he thinks so......  if he does, it will be because he thinks so......\n",
       "379661  she could have killed two birds with one stone...  she could have killed two birds with one stone...\n",
       "238778  [Modest Mouse and Califone - South of Heaven](...   Modest Mouse and Califone - South of Heaven  ...\n",
       "266740                  Today Reddit, tomorrow the world.                  Today Reddit, tomorrow the world.\n",
       "\n",
       "[1000 rows x 2 columns]"
      ]
     },
     "execution_count": 75,
     "metadata": {},
     "output_type": "execute_result"
    }
   ],
   "source": [
    "url_pattern = r'https?:\\/\\/(www\\.)?[-a-zA-Z0-9@:%._\\+~#=]{1,256}\\.[a-zA-Z0-9()]{1,6}\\b([-a-zA-Z0-9()@:%_\\+.~#?&//=;\\\\]*)'\n",
    "\n",
    "# remove URLs, and stuff like numbers &gt;, &amb; ...\n",
    "# TODO instead of removing all numbers, extract/label dates using a tool like duckling. \n",
    "df['body_clean'] = (df.body\n",
    "                           .str.replace(url_pattern + r'|&\\w?\\w?\\w?\\w;|[\\d\\\\/\\[\\]()]+', ' ', regex=True)\n",
    "                          #  .str.replace(r'\\W', ' ', regex=True)\n",
    "                           )\n",
    "df.sample(1000, random_state=7)[['body', 'body_clean']]"
   ]
  },
  {
   "cell_type": "markdown",
   "metadata": {
    "id": "EVd0vA0q0IIT"
   },
   "source": []
  },
  {
   "cell_type": "markdown",
   "metadata": {
    "id": "hnLhzPN9WCEe"
   },
   "source": [
    "# Use hdbscan, pic a LM on reddit social media text or short texts, based on byte code, maybe fastText. maybe BART trained on twitter?\n",
    "evaluate manually, not with score. \n",
    "use at least 1K posts per topics\n",
    "\n",
    "if all else fails, try hirarchical clustering"
   ]
  },
  {
   "cell_type": "markdown",
   "metadata": {
    "id": "dgxs9oP70MAg"
   },
   "source": [
    "load a language model with sentence-transformers package"
   ]
  },
  {
   "cell_type": "markdown",
   "metadata": {
    "id": "_Za_4nOe2DZn"
   },
   "source": [
    "## embed the posts with a LM trained for text similarity, and fine tuned on reddit texts."
   ]
  },
  {
   "cell_type": "code",
   "execution_count": 76,
   "metadata": {
    "colab": {
     "base_uri": "https://localhost:8080/"
    },
    "executionInfo": {
     "elapsed": 17620,
     "status": "ok",
     "timestamp": 1644526774929,
     "user": {
      "displayName": "Amnon Lotenberg",
      "photoUrl": "https://lh3.googleusercontent.com/a-/AOh14GhI9NtjTLc7HAKwQ0goJpM8_6ukOhIaOLH0kN-a=s64",
      "userId": "16006199522535406723"
     },
     "user_tz": -120
    },
    "id": "xhQ1DZki0MAh",
    "outputId": "7720958f-1866-4cd4-b2c7-7fba9d6acbc5"
   },
   "outputs": [
    {
     "name": "stdout",
     "output_type": "stream",
     "text": [
      "(2, 768)\n"
     ]
    }
   ],
   "source": [
    "from sentence_transformers import SentenceTransformer\n",
    "sentences = [\"This is an example sentence\", \"Each sentence is converted\"]\n",
    "\n",
    "model = SentenceTransformer('flax-sentence-embeddings/reddit_single-context_mpnet-base')\n",
    "embeddings = model.encode(sentences)\n",
    "print(embeddings.shape)"
   ]
  },
  {
   "cell_type": "code",
   "execution_count": null,
   "metadata": {
    "id": "07lJjBgM0MAj"
   },
   "outputs": [],
   "source": [
    "%%time\n",
    "vecs = model.encode(df.body_clean.values)"
   ]
  },
  {
   "cell_type": "code",
   "execution_count": null,
   "metadata": {
    "id": "v9XT7XEkG5ZV"
   },
   "outputs": [],
   "source": [
    "# with open('vecs.pickle', 'rb') as f:\n",
    "#     vecs = pickle.load(f)"
   ]
  },
  {
   "cell_type": "code",
   "execution_count": null,
   "metadata": {
    "id": "fhD3HBDE3bYh"
   },
   "outputs": [],
   "source": [
    "vecs.shape"
   ]
  },
  {
   "cell_type": "code",
   "execution_count": null,
   "metadata": {
    "id": "_JYVZlbN2pnx"
   },
   "outputs": [],
   "source": [
    "with open('vecs.pickle', 'wb') as f:\n",
    "    pickle.dump(vecs, f)"
   ]
  },
  {
   "cell_type": "markdown",
   "metadata": {
    "id": "gI6KgoWm0MAk"
   },
   "source": [
    "## reduce dimensionality with UMAP, to improve clustering performance (see some explanation [here](https://towardsdatascience.com/clustering-sentence-embeddings-to-identify-intents-in-short-text-48d22d3bf02e)), and cluster with HDBSCAN"
   ]
  },
  {
   "cell_type": "code",
   "execution_count": null,
   "metadata": {
    "id": "mlMAhf4A0MAk"
   },
   "outputs": [],
   "source": [
    "%%time\n",
    "import umap, hdbscan\n",
    "\n",
    "import sklearn.cluster as cluster\n",
    "from sklearn.metrics import adjusted_rand_score, adjusted_mutual_info_score"
   ]
  },
  {
   "cell_type": "code",
   "execution_count": null,
   "metadata": {
    "id": "oH0C03ue2kP5"
   },
   "outputs": [],
   "source": [
    "%%time\n",
    "vecs_umap = umap.UMAP(\n",
    "    n_components=50,\n",
    "    random_state=42,\n",
    ").fit_transform(vecs)"
   ]
  },
  {
   "cell_type": "code",
   "execution_count": null,
   "metadata": {
    "id": "JdSbd6Vcw_IS"
   },
   "outputs": [],
   "source": [
    "# with open('vecs_umap.pickle', 'rb') as f:\n",
    "#     vecs_umap = pickle.load(f)"
   ]
  },
  {
   "cell_type": "code",
   "execution_count": null,
   "metadata": {
    "id": "l5oE8rUw4ZbC"
   },
   "outputs": [],
   "source": [
    "vecs_umap.shape"
   ]
  },
  {
   "cell_type": "code",
   "execution_count": null,
   "metadata": {
    "id": "kURKu5de4Qr6"
   },
   "outputs": [],
   "source": [
    "with open('vecs_umap.pickle', 'wb') as f:\n",
    "    pickle.dump(vecs_umap, f)"
   ]
  },
  {
   "cell_type": "code",
   "execution_count": null,
   "metadata": {
    "id": "6Z5KquZ34IIq"
   },
   "outputs": [],
   "source": [
    "subreddit_code = df.subreddit.cat.codes"
   ]
  },
  {
   "cell_type": "markdown",
   "metadata": {
    "id": "jMxwltMJEP2l"
   },
   "source": [
    "### lets plot the vectors on a reduced 2D space, cross-referencing with the subreddit labels.\n",
    "This should give us an idea of how well the embedding separate vectors of different subreddits. "
   ]
  },
  {
   "cell_type": "code",
   "execution_count": null,
   "metadata": {
    "id": "2Bj8mAQQ4WAf"
   },
   "outputs": [],
   "source": [
    "%%time\n",
    "vecs_umap2d = umap.UMAP(\n",
    "    # n_neighbors=30,\n",
    "    # min_dist=0.0,\n",
    "    n_components=2,\n",
    "    random_state=42,\n",
    ").fit_transform(vecs)\n",
    "\n",
    "with open('vecs_umap2d.pickle', 'wb') as f:\n",
    "    pickle.dump(vecs_umap2d, f)\n",
    "\n",
    "vecs_umap2d.shape"
   ]
  },
  {
   "cell_type": "code",
   "execution_count": null,
   "metadata": {
    "id": "l66GaUTe35Cj"
   },
   "outputs": [],
   "source": [
    "plt.scatter(vecs_umap2d[:, 0], vecs_umap2d[:, 1],\n",
    "            c=subreddit_code, s=0.1, cmap='Spectral');"
   ]
  },
  {
   "cell_type": "markdown",
   "metadata": {
    "id": "1ZfbOxG4E0U8"
   },
   "source": [
    "Looks like all embeddings are by-and-large lumped together, and/or the subreddit topics overlap a lot to begin with. \n",
    "\n",
    "Still, a few semi coherent monochrome lumps can be spotted. \n",
    "\n",
    "All in all, that's not an encouraging picture, but nonetheless lets see how far can we get with these embeddings. "
   ]
  },
  {
   "cell_type": "markdown",
   "metadata": {
    "id": "E5snDmng4nOd"
   },
   "source": [
    "### cluster with HDBSCAN"
   ]
  },
  {
   "cell_type": "code",
   "execution_count": null,
   "metadata": {
    "id": "yX7uhEeG5z9v"
   },
   "outputs": [],
   "source": [
    "from sklearn.metrics.pairwise import pairwise_distances"
   ]
  },
  {
   "cell_type": "code",
   "execution_count": null,
   "metadata": {
    "id": "gcYO1uhq6fvu"
   },
   "outputs": [],
   "source": [
    "%%time\n",
    "from sklearn.preprocessing import normalize\n",
    "\n",
    "vecs_umap = normalize(vecs_umap, norm='l2')"
   ]
  },
  {
   "cell_type": "code",
   "execution_count": null,
   "metadata": {
    "id": "zz7BydD_4nEx"
   },
   "outputs": [],
   "source": [
    "%%time \n",
    "clusters = hdbscan.HDBSCAN(\n",
    "    min_cluster_size = 200,\n",
    "    metric='euclidean', \n",
    "    # cluster_selection_method='eom'\n",
    "    ).fit_predict(vecs_umap)"
   ]
  },
  {
   "cell_type": "markdown",
   "metadata": {
    "id": "KDdUg9Fv5Dch"
   },
   "source": [
    "## Evaluate clusters against the given subreddits"
   ]
  },
  {
   "cell_type": "code",
   "execution_count": null,
   "metadata": {
    "id": "EIUQ6-0e4miL"
   },
   "outputs": [],
   "source": [
    "print(f'# examples == {len(clusters)}')\n",
    "vc = pd.value_counts(clusters)\n",
    "print(f'# clusters == {len(vc)}')\n",
    "vc"
   ]
  },
  {
   "cell_type": "code",
   "execution_count": null,
   "metadata": {
    "id": "fXJxFTPK5yLE"
   },
   "outputs": [],
   "source": [
    "print(f'''First, we see that most posts could not be clustered (got a -1). \n",
    "That's too bad.\n",
    "Among those that were clustered, we got 16 different clusters, while our data has {n_target_clusters} subreddits.\n",
    "That's also too bad.\n",
    "But lets see if those 16 caught any notion of the topic of the post.''')"
   ]
  },
  {
   "cell_type": "markdown",
   "metadata": {
    "id": "kW4xN1xo5L8D"
   },
   "source": [
    "Lets calc two of the most popular score for measuring the quality of a clustering. \n",
    "\n",
    "Scores close to zero are bad, close to 1 are good"
   ]
  },
  {
   "cell_type": "code",
   "execution_count": null,
   "metadata": {
    "id": "9P34kjbw5IEQ"
   },
   "outputs": [],
   "source": [
    "(\n",
    "    adjusted_rand_score(subreddit_code, clusters),\n",
    "    adjusted_mutual_info_score(subreddit_code, clusters)\n",
    ")"
   ]
  },
  {
   "cell_type": "markdown",
   "metadata": {
    "id": "A0wjWkAa5cw0"
   },
   "source": [
    "Looks like we got bad scores. But scoring functions for clustering are often misleading. Let's eyeball the "
   ]
  },
  {
   "cell_type": "code",
   "execution_count": null,
   "metadata": {
    "id": "Ai_45ti9x8-l"
   },
   "outputs": [],
   "source": [
    "df['cluster'] = clusters\n",
    "df\n"
   ]
  },
  {
   "cell_type": "markdown",
   "metadata": {
    "id": "Ct-9pHix67Ca"
   },
   "source": [
    "Lets use word clouds to eye ball how on-topic each cluster is"
   ]
  },
  {
   "cell_type": "code",
   "execution_count": null,
   "metadata": {
    "id": "GOLXxU951Tcz"
   },
   "outputs": [],
   "source": [
    "from wordcloud import WordCloud, STOPWORDS, ImageColorGenerator"
   ]
  },
  {
   "cell_type": "code",
   "execution_count": null,
   "metadata": {
    "id": "tjbN6_Ovx810"
   },
   "outputs": [],
   "source": [
    "def plot_wordcloud(s, i):\n",
    "  wordcloud = WordCloud().generate(s)\n",
    "\n",
    "  # Display the generated image:\n",
    "  print(f'cluster #{i}')\n",
    "  plt.imshow(wordcloud, interpolation='bilinear')\n",
    "  plt.axis(\"off\")\n",
    "  plt.show()\n",
    "\n",
    "subreddits_by_cluster = df[df.cluster >= 0].groupby('cluster').agg({'subreddit': ' '.join}).subreddit.values   #apply(lambda s: plot_wordcloud)\n",
    "for i, label_list in enumerate(subreddits_by_cluster):\n",
    "  plot_wordcloud(label_list, i)"
   ]
  },
  {
   "cell_type": "markdown",
   "metadata": {
    "id": "rMhGtyGf00Ki"
   },
   "source": [
    "We can see that, \n",
    "1. there's a lot of noise, e.g. 'WTF' appears in several clusters, with no apparent connection to other topics in those clusters.\n",
    "2. On the bright side, most of the clusters contain posts that share a coherent topic (according to their most salient subreddits). E.g., \"worldnews and politics\", \"worldnews politics and canada\", \"Atheism and politics\", \"programming and linux\", \"gaming, technology, programming and entertainment\", \"music and entertainment\". \n",
    "\n",
    "All in all, these results seem good enough for a first draft PoC, with no spare time for hyperparameter tuning, debugging, data curation, or other tweaking.\n",
    "\n"
   ]
  },
  {
   "cell_type": "markdown",
   "metadata": {
    "id": "yyRbssJNHSHb"
   },
   "source": [
    "#  use these cluter-topics overtime to find interesting events in the data"
   ]
  },
  {
   "cell_type": "markdown",
   "metadata": {
    "id": "a2d7qAYJZzlA"
   },
   "source": [
    "## Look at days of a month"
   ]
  },
  {
   "cell_type": "code",
   "execution_count": null,
   "metadata": {
    "id": "tOSwI9RzZ_-o"
   },
   "outputs": [],
   "source": [
    "import plotly.express as px"
   ]
  },
  {
   "cell_type": "code",
   "execution_count": null,
   "metadata": {
    "id": "QCM9W2t7Px86"
   },
   "outputs": [],
   "source": [
    "def tally_clusters_by_date(small_df):\n",
    "  small_df['date'] = small_df.created_utc.dt.date\n",
    "  return small_df.groupby('date').agg({'cluster': len}).rename(columns={'cluster': 'cluster_count'})\n",
    "  \n",
    "\n",
    "df_tallied = df[df.cluster >= 0].groupby('cluster').apply(tally_clusters_by_date).reset_index()\n",
    "df_tallied.head()"
   ]
  },
  {
   "cell_type": "code",
   "execution_count": null,
   "metadata": {
    "id": "aSMjCF-VPfZn"
   },
   "outputs": [],
   "source": [
    "\n",
    "fig = px.line(df_tallied, x='date', y='cluster_count', color='cluster', symbol=\"cluster\")\n",
    "fig.show()"
   ]
  },
  {
   "cell_type": "markdown",
   "metadata": {
    "id": "OO3peh7PHR2F"
   },
   "source": [
    "Some observations:\n",
    "\n",
    "1. looks like after xmas, ppl suddenly started posting a lot about  topic #2, which is about worldnews and politics, topic #14 (atheism, politics) and topic #12 (programming, technology).\n",
    "2. topic #12 (programming, technology) is the most popular overall, and seems to be the most _weekly_, i.e., the traffic differene between working and non working days is the most pronounced. Most other topics get relatively higher traffic on days-off, and don't even dip on xmas. \n",
    "3. There seems to be a big surge in traffic about topics #12 (programming, tech)and #14 (atheism, politics) in the last full work week b4 xmas. maybe that's b/c ppl work more on that week, and also the more they work, the more they chat about politics??\n",
    "4. topic #5 (business, economics) surges around 12 Dec, towards the end of the work week. Maybe ppl are doing some end of year bookkeeping or expenses, heh ?"
   ]
  },
  {
   "cell_type": "markdown",
   "metadata": {
    "id": "7RG6UNaJHRxm"
   },
   "source": [
    "## look at hours of a single work day"
   ]
  },
  {
   "cell_type": "code",
   "execution_count": null,
   "metadata": {
    "id": "1wFxWDHSaebY"
   },
   "outputs": [],
   "source": [
    "def tally_clusters_by_date(small_df):\n",
    "  small_df['date'] = small_df.created_utc.dt.date\n",
    "  return small_df.groupby('date').agg({'cluster': len}).rename(columns={'cluster': 'cluster_count'})\n",
    "  \n",
    "\n",
    "df_tallied = df[df.cluster >= 0].groupby('cluster').apply(tally_clusters_by_date).reset_index()\n",
    "df_tallied.head()"
   ]
  },
  {
   "cell_type": "code",
   "execution_count": null,
   "metadata": {
    "id": "8or6n8UFaeba"
   },
   "outputs": [],
   "source": [
    "\n",
    "fig = px.line(df_tallied, x='date', y='cluster_count', color='cluster', symbol=\"cluster\")\n",
    "fig.show()"
   ]
  },
  {
   "cell_type": "code",
   "execution_count": null,
   "metadata": {
    "id": "wXks4sTWHRjr"
   },
   "outputs": [],
   "source": []
  },
  {
   "cell_type": "markdown",
   "metadata": {
    "id": "MRkrjIirx8or"
   },
   "source": [
    "## try embedding with FastText"
   ]
  },
  {
   "cell_type": "code",
   "execution_count": null,
   "metadata": {
    "id": "vYsgqUVlx75M"
   },
   "outputs": [],
   "source": [
    "!wget https://dl.fbaipublicfiles.com/fasttext/vectors-english/crawl-300d-2M-subword.zip"
   ]
  },
  {
   "cell_type": "code",
   "execution_count": null,
   "metadata": {
    "id": "Njkh9Xfc8uq9"
   },
   "outputs": [],
   "source": [
    "import io\n",
    "\n",
    "def load_vectors(fname):\n",
    "    fin = io.open(fname, 'r', encoding='utf-8', newline='\\n', errors='ignore')\n",
    "    n, d = map(int, fin.readline().split())\n",
    "    data = {}\n",
    "    for line in fin:\n",
    "        tokens = line.rstrip().split(' ')\n",
    "        data[tokens[0]] = map(float, tokens[1:])\n",
    "    return data"
   ]
  },
  {
   "cell_type": "code",
   "execution_count": null,
   "metadata": {
    "id": "v4OJPp0f-v-r"
   },
   "outputs": [],
   "source": [
    "!unzip -o crawl-300d-2M-subword.zip"
   ]
  },
  {
   "cell_type": "code",
   "execution_count": null,
   "metadata": {
    "id": "78bUmHeX8umF"
   },
   "outputs": [],
   "source": [
    "model = load_vectors('crawl-300d-2M-subword.vec')"
   ]
  },
  {
   "cell_type": "code",
   "execution_count": null,
   "metadata": {
    "id": "rKfquZgM8ucz"
   },
   "outputs": [],
   "source": [
    "import fastText as ft\n",
    "\n",
    "# Loading model for Finnish.\n",
    "model = ft.load_model('crawl-300d-2M-subword.bin')\n"
   ]
  },
  {
   "cell_type": "code",
   "execution_count": null,
   "metadata": {
    "id": "H8-n6y3Q8uX2"
   },
   "outputs": [],
   "source": []
  },
  {
   "cell_type": "code",
   "execution_count": null,
   "metadata": {
    "id": "nul73caF8uIP"
   },
   "outputs": [],
   "source": []
  },
  {
   "cell_type": "code",
   "execution_count": null,
   "metadata": {
    "id": "NvUnoq810MAl"
   },
   "outputs": [],
   "source": [
    "import umap, hdbscan\n",
    "def generate_clusters(message_embeddings,\n",
    "                      n_neighbors,\n",
    "                      n_components, \n",
    "                      min_cluster_size,\n",
    "                      random_state = None):\n",
    "    \"\"\"\n",
    "    Generate HDBSCAN cluster object after reducing embedding dimensionality with UMAP\n",
    "    \"\"\"\n",
    "    \n",
    "    # umap_embeddings = (umap.UMAP(\n",
    "    #     n_neighbors=n_neighbors, \n",
    "    #     n_components=n_components, \n",
    "    #     metric='cosine', \n",
    "    #     random_state=random_state)\n",
    "    #     .fit_transform(message_embeddings))\n",
    "    umap_embeddings = message_embeddings\n",
    "\n",
    "    clusters = hdbscan.HDBSCAN(min_cluster_size = min_cluster_size,\n",
    "                               metric='euclidean', \n",
    "                               cluster_selection_method='eom').fit(umap_embeddings)\n",
    "\n",
    "    return clusters, umap_embeddings"
   ]
  },
  {
   "cell_type": "code",
   "execution_count": null,
   "metadata": {
    "id": "nMNuQ-3L0MAm"
   },
   "outputs": [],
   "source": [
    "%%time\n",
    "clusters, umap_embeddings = generate_clusters(vecs, \n",
    "                                              n_neighbors=6,\n",
    "                                              n_components=9,\n",
    "                                              min_cluster_size=60, \n",
    "                                              random_state=7)"
   ]
  },
  {
   "cell_type": "code",
   "execution_count": null,
   "metadata": {
    "id": "kGSRNdt-0MAm"
   },
   "outputs": [],
   "source": [
    "umap_embeddings.shape"
   ]
  },
  {
   "cell_type": "code",
   "execution_count": null,
   "metadata": {
    "id": "j5w7e8_-0MAn"
   },
   "outputs": [],
   "source": []
  },
  {
   "cell_type": "code",
   "execution_count": null,
   "metadata": {
    "id": "cT0YIHWy0MAo"
   },
   "outputs": [],
   "source": [
    "len(clusters.labels_)"
   ]
  },
  {
   "cell_type": "code",
   "execution_count": null,
   "metadata": {
    "id": "m20r3LKL0MAo"
   },
   "outputs": [],
   "source": [
    "(\n",
    "    adjusted_rand_score(subreddit_code, clusters.labels_),\n",
    "    adjusted_mutual_info_score(subreddit_code, clusters.labels_)\n",
    ")"
   ]
  },
  {
   "cell_type": "code",
   "execution_count": null,
   "metadata": {
    "id": "X59giC7x0MAp"
   },
   "outputs": [],
   "source": [
    "clusterable_embedding = umap.UMAP(\n",
    "    n_neighbors=30,\n",
    "    min_dist=0.0,\n",
    "    n_components=50,\n",
    "    random_state=42,\n",
    ").fit_transform(vecs)\n"
   ]
  },
  {
   "cell_type": "code",
   "execution_count": null,
   "metadata": {
    "id": "Z1Lh1cBH0MAp"
   },
   "outputs": [],
   "source": [
    "plt.scatter(clusterable_embedding[:, 0], clusterable_embedding[:, 1],\n",
    "            c=subreddit_code, s=0.1, cmap='Spectral');"
   ]
  },
  {
   "cell_type": "code",
   "execution_count": null,
   "metadata": {
    "id": "e4Tlb7zq0MAq"
   },
   "outputs": [],
   "source": [
    "labels = hdbscan.HDBSCAN(\n",
    "    min_samples=10,\n",
    "    min_cluster_size=500,\n",
    ").fit_predict(clusterable_embedding)"
   ]
  },
  {
   "cell_type": "code",
   "execution_count": null,
   "metadata": {
    "id": "I1ghMjqE0MAq"
   },
   "outputs": [],
   "source": [
    "clustered = (labels >= 0)\n",
    "plt.scatter(clusterable_embedding[~clustered, 0],\n",
    "            clusterable_embedding[~clustered, 1],\n",
    "            color=(0.5, 0.5, 0.5),\n",
    "            s=0.1,\n",
    "            alpha=0.5)\n",
    "plt.scatter(clusterable_embedding[clustered, 0],\n",
    "            clusterable_embedding[clustered, 1],\n",
    "            c=labels[clustered],\n",
    "            s=0.1,\n",
    "            cmap='Spectral');"
   ]
  },
  {
   "cell_type": "code",
   "execution_count": null,
   "metadata": {
    "id": "tg4TvITV0MAq"
   },
   "outputs": [],
   "source": [
    "(\n",
    "    adjusted_rand_score(subreddit_code, labels),\n",
    "    adjusted_mutual_info_score(subreddit_code, labels)\n",
    ")"
   ]
  },
  {
   "cell_type": "code",
   "execution_count": null,
   "metadata": {
    "id": "oOSyz4cd0K9e"
   },
   "outputs": [],
   "source": []
  },
  {
   "cell_type": "markdown",
   "metadata": {
    "id": "KmMNUTbGsC1C"
   },
   "source": [
    "url_pattern = r'https?:\\/\\/(www\\.)?[-a-zA-Z0-9@:%._\\+~#=]{1,256}\\.[a-zA-Z0-9()]{1,6}\\b([-a-zA-Z0-9()@:%_\\+.~#?&//=;\\\\]*)'\n",
    "\n",
    "\n",
    "# remove stop words to clean up tokenized text\n",
    "def remove_stopwords(words):\n",
    "    \"\"\" Removes stopwords based on a known set of stopwords\n",
    "    available in the nltk package.\n",
    "    \"\"\"\n",
    "    # set of stopwords from nltk\n",
    "    stopwords = nltk.corpus.stopwords.words('english')\n",
    "\n",
    "    stopwords_removed = [word for word in words if word not in stopwords]\n",
    "    return stopwords_removed\n",
    "\n",
    "# remove punctuation\n",
    "@lru_cache()\n",
    "def clean_text(text):\n",
    "    if not text:\n",
    "      return ''\n",
    "\n",
    "    # remove URLs, and stuff like numbers &gt;, &amb; ...\n",
    "    # TODO instead of removing all numbers, extract/label dates using a tool like duckling. \n",
    "    text = re.sub(url_pattern + r'|&\\w?\\w?\\w?\\w;|[\\d\\\\/\\[\\]()]+', ' ', text)\n",
    "    text = re.sub(r'\\W', ' ', text)\n",
    "    text = text.lower()\n",
    "    tokenized_text = nltk.word_tokenize(text)\n",
    "    replaced_punctation = list(map(lambda token: re.sub('[^0-9A-Za-z!?]+', ' ', token), tokenized_text))\n",
    "    removed_punctation = list(filter(lambda token: token.strip(), replaced_punctation))\n",
    "    removed_stopwords = remove_stopwords(removed_punctation)\n",
    "    cleaned_text = ' '.join(removed_stopwords)\n",
    "    return cleaned_text\n",
    "\n",
    "\n",
    "df['body_cleaned']= df.body.iloc[:].apply(clean_text)\n",
    "df"
   ]
  },
  {
   "cell_type": "code",
   "execution_count": null,
   "metadata": {
    "id": "mlDdrsI_whz_"
   },
   "outputs": [],
   "source": [
    "# remove words less than 2 in length\n",
    "# ndc_prod_list = [s for s in ndc_prod_list if len(s) > 2]"
   ]
  },
  {
   "cell_type": "code",
   "execution_count": null,
   "metadata": {
    "id": "tw7XmJS_sPXE"
   },
   "outputs": [],
   "source": []
  },
  {
   "cell_type": "markdown",
   "metadata": {
    "id": "5dEZuHWvsh59"
   },
   "source": [
    "# topic modeling w spacy and gensim"
   ]
  },
  {
   "cell_type": "code",
   "execution_count": null,
   "metadata": {
    "id": "E99lwtxXs3jF"
   },
   "outputs": [],
   "source": [
    "# pip install pyLDAvis spacy"
   ]
  },
  {
   "cell_type": "code",
   "execution_count": null,
   "metadata": {
    "id": "GiZT1j29sr8g"
   },
   "outputs": [],
   "source": [
    "import matplotlib.pyplot as plt\n",
    "import gensim\n",
    "import numpy as np\n",
    "import spacy\n",
    "import en_core_web_sm\n",
    "\n",
    "from gensim.models import CoherenceModel, LdaModel, LsiModel, HdpModel\n",
    "from gensim.models.wrappers import LdaMallet\n",
    "from gensim.corpora import Dictionary\n",
    "# import pyLDAvis.gensim\n",
    "\n",
    "import os, re, operator, warnings\n",
    "warnings.filterwarnings('ignore')  # Let's not pay heed to them right now\n",
    "%matplotlib inline"
   ]
  },
  {
   "cell_type": "code",
   "execution_count": null,
   "metadata": {
    "id": "oaAUyZBys6l4"
   },
   "outputs": [],
   "source": [
    "nlp = en_core_web_sm.load()\n"
   ]
  },
  {
   "cell_type": "code",
   "execution_count": null,
   "metadata": {
    "id": "OydgSWbQzB1I"
   },
   "outputs": [],
   "source": [
    "my_stop_words = [u'say', u'\\'s', u'think', u'be', u'said', u'says', u'saying', 'know', 'don_t', 'want', 'like']\n",
    "for stopword in my_stop_words:\n",
    "    lexeme = nlp.vocab[stopword]\n",
    "    lexeme.is_stop = True"
   ]
  },
  {
   "cell_type": "code",
   "execution_count": null,
   "metadata": {
    "id": "annY9k4-ss-U"
   },
   "outputs": [],
   "source": [
    "def spacy_clean(text):\n",
    "  article = []\n",
    "  # we add some words to the stop word list\n",
    "  doc = nlp(text)\n",
    "  for w in doc:\n",
    "      # if it's not a stop word or punctuation mark, add it to our article!\n",
    "      if (w.text != '\\n' and \n",
    "          not w.is_stop and \n",
    "          not w.is_punct and \n",
    "          not w.like_num and \n",
    "          len(w.text.strip()) > 2\n",
    "          ):\n",
    "          # we add the lematized version of the word\n",
    "          article.append(w.lemma_)\n",
    "  return article"
   ]
  },
  {
   "cell_type": "code",
   "execution_count": null,
   "metadata": {
    "id": "VJz-CUmC0mNL"
   },
   "outputs": [],
   "source": [
    "from tqdm import tqdm\n",
    "# from tqdm.auto import tqdm  # for notebooks\n",
    "\n",
    "# Create new `pandas` methods which use `tqdm` progress\n",
    "# (can use tqdm_gui, optional kwargs, etc.)\n",
    "tqdm.pandas()"
   ]
  },
  {
   "cell_type": "code",
   "execution_count": null,
   "metadata": {
    "id": "JtTB_iXEsuLq"
   },
   "outputs": [],
   "source": [
    "%%time\n",
    "texts = df.training_bow_documents.apply(spacy_clean)\n",
    "texts[:10]"
   ]
  },
  {
   "cell_type": "code",
   "execution_count": null,
   "metadata": {
    "id": "D7x8OPv1zKVT"
   },
   "outputs": [],
   "source": [
    "type(texts[0][3])"
   ]
  },
  {
   "cell_type": "markdown",
   "metadata": {
    "id": "XvO9MoZovxjn"
   },
   "source": [
    "## TFIDF top words --> ROBERTA tokenizer --> KMeans"
   ]
  },
  {
   "cell_type": "markdown",
   "metadata": {
    "id": "Fist0sWYzY2V"
   },
   "source": [
    "strings = [' '.join(tokens) for tokens in texts]"
   ]
  },
  {
   "cell_type": "markdown",
   "metadata": {
    "id": "32qkscndv0nD"
   },
   "source": [
    "import pandas as pd\n",
    "from sklearn.cluster import KMeans\n",
    "from sklearn.feature_extraction.text import TfidfVectorizer\n",
    "import random\n",
    "import numpy as np\n",
    "from transformers import RobertaTokenizer\n",
    "\n",
    "# Clustering using TfidfVectorizer method\n",
    "tf_idf_vectorizor = TfidfVectorizer(stop_words = 'english',\n",
    "                                    max_features = 20000,\n",
    "                                    max_df = 0.8,\n",
    "                                    ngram_range=(1,2)\n",
    "                                    )\n",
    "tf_idf = tf_idf_vectorizor.fit_transform(strings)\n",
    "tf_idf_array = tf_idf.toarray()\n",
    "kmeans = KMeans(n_clusters=n_target_clusters, algorithm = 'auto') #2\n",
    "kmeans.fit(tf_idf_array)\n",
    "KMeans(n_clusters=n_target_clusters)\n",
    "cluster_assignment = kmeans.labels_\n",
    "clustered_sentences = [[] for i in range(n_target_clusters)]\n",
    "for sentence_id, cluster_id in enumerate(cluster_assignment):\n",
    "    clustered_sentences[cluster_id].append(strings[sentence_id])\n",
    "\n",
    "for i, cluster in enumerate(clustered_sentences):\n",
    "    print(\"Cluster \", i+1)\n",
    "    print(cluster[:10])\n",
    "    print(\"\")\n",
    "\n"
   ]
  },
  {
   "cell_type": "markdown",
   "metadata": {
    "id": "EljQdSFLy9CV"
   },
   "source": [
    "roberta_tokenizer = RobertaTokenizer.from_pretrained(\"roberta-base\")\n",
    "\n",
    "total_array = np.array([roberta_tokenizer.encode_plus(strings[0],add_special_tokens=True,max_length=30,pad_to_max_length=True,return_attention_mask=True)['input_ids']])\n",
    "\n",
    "for i in strings[1:]:\n",
    "    new_array = np.array([roberta_tokenizer.encode_plus(i,add_special_tokens=True,max_length=30,pad_to_max_length=True,return_attention_mask=True)['input_ids']])\n",
    "    total_array = np.append(total_array,new_array,axis=0)\n",
    "\n",
    "clustered_sentences = [[] for i in range(n_target_clusters)]\n",
    "for sentence_id, cluster_id in enumerate(cluster_assignment):\n",
    "    clustered_sentences[cluster_id].append(strings[sentence_id])\n",
    "\n",
    "for i, cluster in enumerate(clustered_sentences):\n",
    "    print(\"Cluster \", i+1)\n",
    "    print(cluster[:10])\n",
    "    print(\"\")\n"
   ]
  },
  {
   "cell_type": "markdown",
   "metadata": {
    "id": "zDBJfAzFwoGB"
   },
   "source": [
    "## back to topic modeling"
   ]
  },
  {
   "cell_type": "code",
   "execution_count": null,
   "metadata": {
    "id": "rxvoqXlDv2pz"
   },
   "outputs": [],
   "source": [
    "bigram = gensim.models.Phrases(texts)"
   ]
  },
  {
   "cell_type": "code",
   "execution_count": null,
   "metadata": {
    "id": "jtb28MZKv610"
   },
   "outputs": [],
   "source": [
    "texts = [bigram[line] for line in texts]"
   ]
  },
  {
   "cell_type": "code",
   "execution_count": null,
   "metadata": {
    "id": "PGOOXIWcwBEF"
   },
   "outputs": [],
   "source": [
    "dictionary = Dictionary(texts)\n",
    "corpus = [dictionary.doc2bow(text) for text in texts]"
   ]
  },
  {
   "cell_type": "code",
   "execution_count": null,
   "metadata": {
    "id": "sGXIqa7twEYZ"
   },
   "outputs": [],
   "source": [
    "hdpmodel = HdpModel(corpus=corpus, id2word=dictionary)"
   ]
  },
  {
   "cell_type": "code",
   "execution_count": null,
   "metadata": {
    "id": "FKcSfj-jwIth"
   },
   "outputs": [],
   "source": [
    "hdp_topics = hdpmodel.show_topics()\n",
    "hdp_topics"
   ]
  },
  {
   "cell_type": "code",
   "execution_count": null,
   "metadata": {
    "id": "4h4VSZRawqwT"
   },
   "outputs": [],
   "source": [
    "len(hdpmodel.show_topics())"
   ]
  },
  {
   "cell_type": "code",
   "execution_count": null,
   "metadata": {
    "id": "ytNU9pl24E1i"
   },
   "outputs": [],
   "source": [
    "def compare_hdp_top_topic_w_subreddit(ndx):\n",
    "  vector = hdpmodel[corpus[ndx]]\n",
    "  print(hdp_topics[pd.Series(tpl[1] for tpl in vector).argmax()])\n",
    "  print(df.iloc[ndx][['subreddit', 'body']])"
   ]
  },
  {
   "cell_type": "code",
   "execution_count": null,
   "metadata": {
    "id": "pCVaCQhj4IZK"
   },
   "outputs": [],
   "source": [
    "for i in range(20):\n",
    "  compare_hdp_top_topic_w_subreddit(i)"
   ]
  },
  {
   "cell_type": "code",
   "execution_count": null,
   "metadata": {
    "id": "HfKYl0AV4bCw"
   },
   "outputs": [],
   "source": []
  },
  {
   "cell_type": "code",
   "execution_count": null,
   "metadata": {
    "id": "QhtvWrJLwLZH"
   },
   "outputs": [],
   "source": [
    "lsimodel = LsiModel(corpus=corpus, num_topics=n_target_clusters, id2word=dictionary)"
   ]
  },
  {
   "cell_type": "code",
   "execution_count": null,
   "metadata": {
    "id": "KbJ1QYLWwjGt"
   },
   "outputs": [],
   "source": [
    "lsi_topics = lsimodel.show_topics()  # Showing only the top 5 topics\n",
    "lsi_topics"
   ]
  },
  {
   "cell_type": "code",
   "execution_count": null,
   "metadata": {
    "id": "arPes9-3wlda"
   },
   "outputs": [],
   "source": [
    "vector = lsimodel[corpus[4]]\n",
    "vector"
   ]
  },
  {
   "cell_type": "code",
   "execution_count": null,
   "metadata": {
    "id": "YLBoyTYp2MMf"
   },
   "outputs": [],
   "source": [
    "def compare_top_topic_w_subreddit(ndx):\n",
    "  vector = lsimodel[corpus[ndx]]\n",
    "  print(lsi_topics[pd.Series(tpl[1] for tpl in vector).argmax()])\n",
    "  print(df.iloc[ndx][['subreddit', 'body']])"
   ]
  },
  {
   "cell_type": "code",
   "execution_count": null,
   "metadata": {
    "id": "_fCkykcr3dT4"
   },
   "outputs": [],
   "source": [
    "for i in range(20):\n",
    "  compare_top_topic_w_subreddit(i)"
   ]
  },
  {
   "cell_type": "markdown",
   "metadata": {
    "id": "3yKv_ElON7tA"
   },
   "source": [
    "# Contextual Topic Modeling"
   ]
  },
  {
   "cell_type": "code",
   "execution_count": null,
   "metadata": {
    "id": "44cHjCxHN_4G"
   },
   "outputs": [],
   "source": [
    "%%capture\n",
    "!pip install contextualized-topic-models==1.8.1\n",
    "!pip install torch==1.6.0+cu101 torchvision==0.7.0+cu101 -f https://download.pytorch.org/whl/torch_stable.html"
   ]
  },
  {
   "cell_type": "code",
   "execution_count": null,
   "metadata": {
    "id": "5nKc7-zZP5Fo"
   },
   "outputs": [],
   "source": [
    "from contextualized_topic_models.models.ctm import CombinedTM\n",
    "from contextualized_topic_models.utils.data_preparation import bert_embeddings_from_file, TopicModelDataPreparation\n",
    "from contextualized_topic_models.datasets.dataset import CTMDataset\n",
    "from contextualized_topic_models.evaluation.measures import CoherenceNPMI, InvertedRBO\n",
    "from gensim.corpora.dictionary import Dictionary\n",
    "from gensim.models import ldamodel \n",
    "import os\n",
    "import numpy as np\n",
    "import pickle"
   ]
  },
  {
   "cell_type": "code",
   "execution_count": null,
   "metadata": {
    "id": "WLNQWutbQk12"
   },
   "outputs": [],
   "source": [
    "url_pattern = r'https?:\\/\\/(www\\.)?[-a-zA-Z0-9@:%._\\+~#=]{1,256}\\.[a-zA-Z0-9()]{1,6}\\b([-a-zA-Z0-9()@:%_\\+.~#?&//=;\\\\]*)'\n",
    "\n",
    "# remove URLs, and stuff like numbers &gt;, &amb; ...\n",
    "# TODO instead of removing all numbers, extract/label dates using a tool like duckling. \n",
    "df['training_bow_documents'] = (df.body\n",
    "                           .str.replace(url_pattern + r'|&\\w?\\w?\\w?\\w;|[\\d\\\\/\\[\\]()]+', ' ', regex=True)\n",
    "                           .str.replace(r'\\W', ' ', regex=True)\n",
    "                           )\n",
    "df"
   ]
  },
  {
   "cell_type": "code",
   "execution_count": null,
   "metadata": {
    "id": "WVU3b2U5P5Sr"
   },
   "outputs": [],
   "source": [
    "tp = TopicModelDataPreparation(\"bert-base-nli-mean-tokens\")\n",
    "\n",
    "training_dataset = tp.create_training_set(df.body, df.body_cleaned)"
   ]
  },
  {
   "cell_type": "code",
   "execution_count": null,
   "metadata": {
    "id": "QetnFOtAP5Vf"
   },
   "outputs": [],
   "source": [
    "tp.vocab[:10]"
   ]
  },
  {
   "cell_type": "code",
   "execution_count": null,
   "metadata": {
    "id": "lc79PWnrP5Xm"
   },
   "outputs": [],
   "source": [
    "ctm = CombinedTM(input_size=len(tp.vocab), bert_input_size=768, num_epochs=200, n_components=n_target_clusters)\n",
    "ctm.fit(training_dataset)  "
   ]
  },
  {
   "cell_type": "code",
   "execution_count": null,
   "metadata": {
    "id": "NrOOWCfHP5ax"
   },
   "outputs": [],
   "source": [
    "ctm.get_topic_lists(5)"
   ]
  },
  {
   "cell_type": "markdown",
   "metadata": {
    "id": "4fL3IlwaP5e6"
   },
   "source": [
    "## compare to subreddit values"
   ]
  },
  {
   "cell_type": "code",
   "execution_count": null,
   "metadata": {
    "id": "V36vw1aMUchv"
   },
   "outputs": [],
   "source": [
    "# print(training_dataset[0])\n",
    "\n",
    "predictions = ctm.get_doc_topic_distribution(training_dataset, n_samples=20)\n",
    "\n",
    "topic_index = np.argmax(predictions[0])\n",
    "topic_words = ctm.get_topic_lists(5)[topic_index]\n",
    "topic_words"
   ]
  },
  {
   "cell_type": "code",
   "execution_count": null,
   "metadata": {
    "id": "F0duGoSRUcs0"
   },
   "outputs": [],
   "source": [
    "for i in range(20):\n",
    "  topic_index = np.argmax(predictions[i])\n",
    "  topic_words = ctm.get_topic_lists(5)[topic_index]\n",
    "  print(topic_words)\n",
    "  print(df.iloc[i].subreddit, f'body: \"{df.iloc[i].body[:100]}...\"')\n",
    "  print()"
   ]
  },
  {
   "cell_type": "markdown",
   "metadata": {
    "id": "MFOAT1MloSPT"
   },
   "source": [
    "# Cluster\n",
    "\n",
    "\n",
    "Use topic clustering/modeling methods, in order to cluster Reddit’s/words.  In this part don’t use the “subreddit” column. Evaluate your Reddits topic clustering/modeling results using the “subreddit” column (as tagged data for Reddit’s topic)."
   ]
  },
  {
   "cell_type": "markdown",
   "metadata": {
    "id": "G_qNVZqoBrXq"
   },
   "source": [
    "## embed the posts using sentence-transformers and MiniLM (specialized for semantic similarity), and cluster with KMeans"
   ]
  },
  {
   "cell_type": "markdown",
   "metadata": {
    "id": "lMgw88_4CEFq"
   },
   "source": [
    "clean text for embedding: remove non dictionary words (coz the LM might not _understand_  them well), and URLs"
   ]
  },
  {
   "cell_type": "markdown",
   "metadata": {
    "id": "jNTaVIoWKlRZ"
   },
   "source": [
    "remove URLs, and stuff like numbers \"http\", &gt;, &amb; ...\n"
   ]
  },
  {
   "cell_type": "code",
   "execution_count": null,
   "metadata": {
    "id": "4gOvkKGuKnp9"
   },
   "outputs": [],
   "source": [
    "url_pattern = r'https?:\\/\\/(www\\.)?[-a-zA-Z0-9@:%._\\+~#=]{1,256}\\.[a-zA-Z0-9()]{1,6}\\b([-a-zA-Z0-9()@:%_\\+.~#?&//=;\\\\]*)'\n",
    "\n",
    "# remove URLs, and stuff like numbers &gt;, &amb; ...\n",
    "# TODO instead of removing all numbers, extract/label dates using a tool like duckling. \n",
    "df['body_b4_embedding'] = (df.body\n",
    "                           .str.replace(url_pattern + r'|&\\w?\\w?\\w?\\w;|[\\d\\\\/\\[\\]()]+', ' ', regex=True)\n",
    "                           )\n",
    "df"
   ]
  },
  {
   "cell_type": "code",
   "execution_count": null,
   "metadata": {
    "id": "kN7pt8Z8Hm45"
   },
   "outputs": [],
   "source": [
    "!wget https://www.dropbox.com/s/1t3mhk1sl7l4inj/en_lemmas_clean.txt"
   ]
  },
  {
   "cell_type": "code",
   "execution_count": null,
   "metadata": {
    "id": "lRQ19KsDH2yo"
   },
   "outputs": [],
   "source": [
    "en_vocab = set(pd.read_csv('en_lemmas_clean.txt', names=['lemma']).lemma.dropna())\n",
    "print(f'load {len(en_vocab)} english dictionary words from wiktionary, which we '\n",
    "f'can use as a ± comprehensive list of standard English words. Here is a sample: {list(en_vocab)[:10]}')"
   ]
  },
  {
   "cell_type": "code",
   "execution_count": null,
   "metadata": {
    "id": "WtlXi0JgJTyJ"
   },
   "outputs": [],
   "source": [
    "\"nt\" in en_vocab\n"
   ]
  },
  {
   "cell_type": "markdown",
   "metadata": {
    "id": "DCTjJznyPjB1"
   },
   "source": [
    "load a language model with sentence-transformers package"
   ]
  },
  {
   "cell_type": "code",
   "execution_count": null,
   "metadata": {
    "id": "7rqAj27hPh7E"
   },
   "outputs": [],
   "source": [
    "from sentence_transformers import SentenceTransformer\n",
    "sentences = [\"This is an example sentence\", \"Each sentence is converted\"]\n",
    "\n",
    "model = SentenceTransformer('sentence-transformers/all-mpnet-base-v2')\n",
    "embeddings = model.encode(sentences)\n",
    "print(embeddings.shape)"
   ]
  },
  {
   "cell_type": "code",
   "execution_count": null,
   "metadata": {
    "id": "KyY1qxcDQUi3"
   },
   "outputs": [],
   "source": [
    "%%time\n",
    "vecs = model.encode(df.body_b4_embedding.values)"
   ]
  },
  {
   "cell_type": "markdown",
   "metadata": {
    "id": "dIZzzFM1QK5K"
   },
   "source": [
    "reduce dimensionality with UMAP, to improve clustering performance (see some explanation [here](https://towardsdatascience.com/clustering-sentence-embeddings-to-identify-intents-in-short-text-48d22d3bf02e))\n",
    "\n",
    "and cluster with HDBSCAN"
   ]
  },
  {
   "cell_type": "code",
   "execution_count": null,
   "metadata": {
    "id": "PhlsDycFK5NF"
   },
   "outputs": [],
   "source": [
    "%%time\n",
    "import sklearn.cluster as cluster\n",
    "from sklearn.metrics import adjusted_rand_score, adjusted_mutual_info_score"
   ]
  },
  {
   "cell_type": "code",
   "execution_count": null,
   "metadata": {
    "id": "LuH28ZR7QKn-"
   },
   "outputs": [],
   "source": [
    "import umap, hdbscan\n",
    "def generate_clusters(message_embeddings,\n",
    "                      n_neighbors,\n",
    "                      n_components, \n",
    "                      min_cluster_size,\n",
    "                      random_state = None):\n",
    "    \"\"\"\n",
    "    Generate HDBSCAN cluster object after reducing embedding dimensionality with UMAP\n",
    "    \"\"\"\n",
    "    \n",
    "    # umap_embeddings = (umap.UMAP(\n",
    "    #     n_neighbors=n_neighbors, \n",
    "    #     n_components=n_components, \n",
    "    #     metric='cosine', \n",
    "    #     random_state=random_state)\n",
    "    #     .fit_transform(message_embeddings))\n",
    "    umap_embeddings = message_embeddings\n",
    "\n",
    "    clusters = hdbscan.HDBSCAN(min_cluster_size = min_cluster_size,\n",
    "                               metric='euclidean', \n",
    "                               cluster_selection_method='eom').fit(umap_embeddings)\n",
    "\n",
    "    return clusters, umap_embeddings"
   ]
  },
  {
   "cell_type": "code",
   "execution_count": null,
   "metadata": {
    "id": "fjzg6YqyQJ4T"
   },
   "outputs": [],
   "source": [
    "%%time\n",
    "clusters, umap_embeddings = generate_clusters(vecs, \n",
    "                                              n_neighbors=6,\n",
    "                                              n_components=9,\n",
    "                                              min_cluster_size=60, \n",
    "                                              random_state=7)"
   ]
  },
  {
   "cell_type": "code",
   "execution_count": null,
   "metadata": {
    "id": "jILROP9rHACM"
   },
   "outputs": [],
   "source": [
    "umap_embeddings.shape"
   ]
  },
  {
   "cell_type": "code",
   "execution_count": null,
   "metadata": {
    "id": "Z-LdWTdjQ7hg"
   },
   "outputs": [],
   "source": [
    "subreddit_code = df.subreddit.astype('category').cat.codes"
   ]
  },
  {
   "cell_type": "code",
   "execution_count": null,
   "metadata": {
    "id": "jGPASuDnMjcq"
   },
   "outputs": [],
   "source": [
    "len(clusters.labels_)"
   ]
  },
  {
   "cell_type": "code",
   "execution_count": null,
   "metadata": {
    "id": "2Nt-aq9jMHRb"
   },
   "outputs": [],
   "source": [
    "(\n",
    "    adjusted_rand_score(subreddit_code, clusters.labels_),\n",
    "    adjusted_mutual_info_score(subreddit_code, clusters.labels_)\n",
    ")"
   ]
  },
  {
   "cell_type": "code",
   "execution_count": null,
   "metadata": {
    "id": "SHkSgAOcw0HR"
   },
   "outputs": [],
   "source": [
    "clusterable_embedding = umap.UMAP(\n",
    "    n_neighbors=30,\n",
    "    min_dist=0.0,\n",
    "    n_components=50,\n",
    "    random_state=42,\n",
    ").fit_transform(vecs)\n"
   ]
  },
  {
   "cell_type": "code",
   "execution_count": null,
   "metadata": {
    "id": "5x0kMI7fw2nz"
   },
   "outputs": [],
   "source": [
    "plt.scatter(clusterable_embedding[:, 0], clusterable_embedding[:, 1],\n",
    "            c=subreddit_code, s=0.1, cmap='Spectral');"
   ]
  },
  {
   "cell_type": "code",
   "execution_count": null,
   "metadata": {
    "id": "_E2wVkSFxEPN"
   },
   "outputs": [],
   "source": [
    "labels = hdbscan.HDBSCAN(\n",
    "    min_samples=10,\n",
    "    min_cluster_size=500,\n",
    ").fit_predict(clusterable_embedding)"
   ]
  },
  {
   "cell_type": "code",
   "execution_count": null,
   "metadata": {
    "id": "GYdRU7QkxEYH"
   },
   "outputs": [],
   "source": [
    "clustered = (labels >= 0)\n",
    "plt.scatter(clusterable_embedding[~clustered, 0],\n",
    "            clusterable_embedding[~clustered, 1],\n",
    "            color=(0.5, 0.5, 0.5),\n",
    "            s=0.1,\n",
    "            alpha=0.5)\n",
    "plt.scatter(clusterable_embedding[clustered, 0],\n",
    "            clusterable_embedding[clustered, 1],\n",
    "            c=labels[clustered],\n",
    "            s=0.1,\n",
    "            cmap='Spectral');"
   ]
  },
  {
   "cell_type": "code",
   "execution_count": null,
   "metadata": {
    "id": "NtdV1TqZxEhP"
   },
   "outputs": [],
   "source": [
    "(\n",
    "    adjusted_rand_score(subreddit_code, labels),\n",
    "    adjusted_mutual_info_score(subreddit_code, labels)\n",
    ")"
   ]
  },
  {
   "cell_type": "code",
   "execution_count": null,
   "metadata": {
    "id": "Lkj_L-B2QKpG"
   },
   "outputs": [],
   "source": [
    "standard_embedding = umap.UMAP(random_state=42).fit_transform(vecs)\n",
    "plt.scatter(standard_embedding[:, 0], standard_embedding[:, 1], c=subreddit_code, s=0.1, cmap='Spectral');\n"
   ]
  },
  {
   "cell_type": "code",
   "execution_count": null,
   "metadata": {
    "id": "SlpsYdppOmFx"
   },
   "outputs": [],
   "source": [
    "%%time\n",
    "import sklearn.cluster as cluster\n",
    "from sklearn.metrics import adjusted_rand_score, adjusted_mutual_info_score\n",
    "\n",
    "# clusters = cluster.KMeans(n_clusters=n_target_clusters).fit_predict(vecs)\n",
    "clusters = hdbscan.HDBSCAN(min_samples=10, min_cluster_size=500).fit_predict(vecs)"
   ]
  },
  {
   "cell_type": "code",
   "execution_count": null,
   "metadata": {
    "id": "qDweOsFTPi5a"
   },
   "outputs": [],
   "source": [
    "clusters"
   ]
  },
  {
   "cell_type": "code",
   "execution_count": null,
   "metadata": {
    "id": "cr1iCcjgSB8-"
   },
   "outputs": [],
   "source": [
    "(\n",
    "    adjusted_rand_score(subreddit_code, clusters),\n",
    "    adjusted_mutual_info_score(subreddit_code, clusters)\n",
    ")"
   ]
  },
  {
   "cell_type": "code",
   "execution_count": null,
   "metadata": {
    "id": "4qSB0PWHTYvn"
   },
   "outputs": [],
   "source": [
    "clustered = (clusters >= 0)\n",
    "(\n",
    "    adjusted_rand_score(subreddit_code[clustered], clusters[clustered]),\n",
    "    adjusted_mutual_info_score(subreddit_code[clustered], clusters[clustered])\n",
    ")\n"
   ]
  },
  {
   "cell_type": "code",
   "execution_count": null,
   "metadata": {
    "id": "FjCdCiCMT6xI"
   },
   "outputs": [],
   "source": [
    "clustered.sum()"
   ]
  },
  {
   "cell_type": "code",
   "execution_count": null,
   "metadata": {
    "id": "G_hpSNQTGX61"
   },
   "outputs": [],
   "source": [
    "vc = pd.value_counts(clusters)\n",
    "print(vc.shape)\n",
    "vc"
   ]
  },
  {
   "cell_type": "code",
   "execution_count": null,
   "metadata": {
    "id": "XMAIfw9fhq6Y"
   },
   "outputs": [],
   "source": [
    "clustered = (clusters >= 0)\n",
    "plt.scatter(umap_embeddings[~clustered, 0],\n",
    "            umap_embeddings[~clustered, 1],\n",
    "            color=(0.5, 0.5, 0.5),\n",
    "            s=0.1,\n",
    "            alpha=0.5)\n",
    "plt.scatter(umap_embeddings[clustered, 0],\n",
    "            umap_embeddings[clustered, 1],\n",
    "            c=clusters[clustered],\n",
    "            s=0.1,\n",
    "            cmap='Spectral');"
   ]
  },
  {
   "cell_type": "code",
   "execution_count": null,
   "metadata": {
    "id": "CpBQhkjSof4j"
   },
   "outputs": [],
   "source": [
    "from nltk.util import bigrams\n",
    "\n",
    "\n",
    "# Tweak this distance threshold and try different distance calculations \n",
    "# during experimentation\n",
    "DISTANCE_THRESHOLD = 0.6\n",
    "DISTANCE = jaccard_distance\n",
    "\n",
    "def cluster_texts_with_jaccard(df):\n",
    "\n",
    "    texts = df.body_cleaned.values\n",
    "\n",
    "    clusters = {}\n",
    "    for title1 in texts:\n",
    "        clusters[title1] = Counter()\n",
    "        for title2 in texts:\n",
    "            if title2 in clusters[title1] or title2 in clusters and title1 \\\n",
    "                in clusters[title2]:\n",
    "                continue\n",
    "            try:\n",
    "                distance = DISTANCE(set(title1.split()), set(title2.split()))\n",
    "            except:\n",
    "                print(title1.split())\n",
    "                print(title2.split())\n",
    "                continue\n",
    "\n",
    "            if distance < DISTANCE_THRESHOLD:\n",
    "                clusters[title1].append(title2)\n",
    "\n",
    "    # Flatten out clusters\n",
    "    clusters = [clusters[title] for title in clusters if len(clusters[title]) > 1]\n",
    "\n",
    "    # Round up subreddits who are in these clusters and group them together\n",
    "    subreddits = df.subreddit.values\n",
    "    clustered_subreddits = {}\n",
    "    for cluster in clusters:\n",
    "        clustered_subreddits[tuple(cluster)] = []\n",
    "        for subreddit in subreddits:\n",
    "              if subreddit in cluster:\n",
    "                  clustered_contacts[tuple(cluster)].append('{0} {1}.'.format(\n",
    "                      contact['FirstName'], contact['LastName'][0]))\n",
    "\n",
    "    return clustered_contacts\n",
    "\n",
    "\n",
    "clustered_contacts = cluster_contacts_by_title()\n",
    "\n",
    "for titles in clustered_contacts:\n",
    "    common_titles_heading = 'Common Titles: ' + ', '.join(titles)\n",
    "\n",
    "    descriptive_terms = set(titles[0].split())\n",
    "    for title in titles:\n",
    "        descriptive_terms.intersection_update(set(title.split()))\n",
    "    if len(descriptive_terms) == 0: descriptive_terms = ['***No words in common***']\n",
    "    descriptive_terms_heading = 'Descriptive Terms: ' \\\n",
    "        + ', '.join(descriptive_terms)\n",
    "    print(common_titles_heading)\n",
    "    print('\\n'+descriptive_terms_heading)\n",
    "    print('-' * 70)\n",
    "    print('\\n'.join(clustered_contacts[titles]))\n",
    "    print()"
   ]
  },
  {
   "cell_type": "markdown",
   "metadata": {
    "id": "uA8LUL74og3i"
   },
   "source": [
    "# clusters over time\n",
    "\n",
    "\n",
    "Then use these topics overtime to find interesting events in the data."
   ]
  },
  {
   "cell_type": "code",
   "execution_count": null,
   "metadata": {
    "id": "FS9z7Jz4oipD"
   },
   "outputs": [],
   "source": []
  }
 ],
 "metadata": {
  "accelerator": "GPU",
  "colab": {
   "authorship_tag": "ABX9TyPcPS6aU29MaSlMyLMO/8Mp",
   "collapsed_sections": [],
   "name": "DiagnosticRobotics Home Assignment | Reddit",
   "provenance": [],
   "toc_visible": true
  },
  "kernelspec": {
   "display_name": "Python 3 (ipykernel)",
   "language": "python",
   "name": "python3"
  },
  "language_info": {
   "codemirror_mode": {
    "name": "ipython",
    "version": 3
   },
   "file_extension": ".py",
   "mimetype": "text/x-python",
   "name": "python",
   "nbconvert_exporter": "python",
   "pygments_lexer": "ipython3",
   "version": "3.10.4"
  }
 },
 "nbformat": 4,
 "nbformat_minor": 4
}
